{
 "cells": [
  {
   "cell_type": "code",
   "execution_count": 1,
   "metadata": {},
   "outputs": [],
   "source": [
    "import pandas as pd\n",
    "import sqlite3\n",
    "import plotly.express as px\n",
    "import numpy as np\n"
   ]
  },
  {
   "cell_type": "code",
   "execution_count": 2,
   "metadata": {},
   "outputs": [
    {
     "data": {
      "text/html": [
       "<div>\n",
       "<style scoped>\n",
       "    .dataframe tbody tr th:only-of-type {\n",
       "        vertical-align: middle;\n",
       "    }\n",
       "\n",
       "    .dataframe tbody tr th {\n",
       "        vertical-align: top;\n",
       "    }\n",
       "\n",
       "    .dataframe thead th {\n",
       "        text-align: right;\n",
       "    }\n",
       "</style>\n",
       "<table border=\"1\" class=\"dataframe\">\n",
       "  <thead>\n",
       "    <tr style=\"text-align: right;\">\n",
       "      <th></th>\n",
       "      <th>date</th>\n",
       "      <th>temperature</th>\n",
       "      <th>nb_objets</th>\n",
       "    </tr>\n",
       "  </thead>\n",
       "  <tbody>\n",
       "    <tr>\n",
       "      <th>0</th>\n",
       "      <td>2019-01-01</td>\n",
       "      <td>8</td>\n",
       "      <td>5</td>\n",
       "    </tr>\n",
       "    <tr>\n",
       "      <th>1</th>\n",
       "      <td>2019-01-02</td>\n",
       "      <td>5</td>\n",
       "      <td>90</td>\n",
       "    </tr>\n",
       "    <tr>\n",
       "      <th>2</th>\n",
       "      <td>2019-01-03</td>\n",
       "      <td>4</td>\n",
       "      <td>107</td>\n",
       "    </tr>\n",
       "    <tr>\n",
       "      <th>3</th>\n",
       "      <td>2019-01-04</td>\n",
       "      <td>3</td>\n",
       "      <td>84</td>\n",
       "    </tr>\n",
       "    <tr>\n",
       "      <th>4</th>\n",
       "      <td>2019-01-05</td>\n",
       "      <td>4</td>\n",
       "      <td>78</td>\n",
       "    </tr>\n",
       "    <tr>\n",
       "      <th>...</th>\n",
       "      <td>...</td>\n",
       "      <td>...</td>\n",
       "      <td>...</td>\n",
       "    </tr>\n",
       "    <tr>\n",
       "      <th>1423</th>\n",
       "      <td>2022-12-27</td>\n",
       "      <td>5</td>\n",
       "      <td>84</td>\n",
       "    </tr>\n",
       "    <tr>\n",
       "      <th>1424</th>\n",
       "      <td>2022-12-28</td>\n",
       "      <td>9</td>\n",
       "      <td>67</td>\n",
       "    </tr>\n",
       "    <tr>\n",
       "      <th>1425</th>\n",
       "      <td>2022-12-29</td>\n",
       "      <td>10</td>\n",
       "      <td>65</td>\n",
       "    </tr>\n",
       "    <tr>\n",
       "      <th>1426</th>\n",
       "      <td>2022-12-30</td>\n",
       "      <td>10</td>\n",
       "      <td>61</td>\n",
       "    </tr>\n",
       "    <tr>\n",
       "      <th>1427</th>\n",
       "      <td>2022-12-31</td>\n",
       "      <td>15</td>\n",
       "      <td>73</td>\n",
       "    </tr>\n",
       "  </tbody>\n",
       "</table>\n",
       "<p>1428 rows × 3 columns</p>\n",
       "</div>"
      ],
      "text/plain": [
       "            date  temperature  nb_objets\n",
       "0     2019-01-01            8          5\n",
       "1     2019-01-02            5         90\n",
       "2     2019-01-03            4        107\n",
       "3     2019-01-04            3         84\n",
       "4     2019-01-05            4         78\n",
       "...          ...          ...        ...\n",
       "1423  2022-12-27            5         84\n",
       "1424  2022-12-28            9         67\n",
       "1425  2022-12-29           10         65\n",
       "1426  2022-12-30           10         61\n",
       "1427  2022-12-31           15         73\n",
       "\n",
       "[1428 rows x 3 columns]"
      ]
     },
     "execution_count": 2,
     "metadata": {},
     "output_type": "execute_result"
    }
   ],
   "source": [
    "# Connexion à la base de données\n",
    "conn = sqlite3.connect('bdd.db')\n",
    "\n",
    "# Récupération des données dans un DataFrame\n",
    "query = \"\"\"\n",
    "    SELECT ObjetsTrouves.date , Temperatures.temperature, COUNT(*) as nb_objets\n",
    "    FROM ObjetsTrouves\n",
    "    JOIN Temperatures ON ObjetsTrouves.date = Temperatures.date\n",
    "    GROUP BY ObjetsTrouves.date, Temperatures.temperature \n",
    "\"\"\"\n",
    "df = pd.read_sql_query(query, conn)\n",
    "df"
   ]
  },
  {
   "cell_type": "code",
   "execution_count": 3,
   "metadata": {},
   "outputs": [],
   "source": [
    "from datetime import datetime\n",
    "\n",
    "def get_season(date):\n",
    "    # Convertir la chaîne de caractères en objet datetime\n",
    "    date_obj = datetime.strptime(date, \"%Y-%m-%d\")\n",
    "    month = date_obj.month\n",
    "    day = date_obj.day\n",
    "\n",
    "    # Déterminer la saison en fonction du mois et du jour\n",
    "    if (month == 3 and day >= 20) or (month == 4) or (month == 5) or (month == 6 and day < 21):\n",
    "        return 'Printemps'\n",
    "    elif (month == 6 and day >= 21) or (month == 7) or (month == 8) or (month == 9 and day < 23):\n",
    "        return 'Été'\n",
    "    elif (month == 9 and day >= 23) or (month == 10) or (month == 11) or (month == 12 and day < 21):\n",
    "        return 'Automne'\n",
    "    else:\n",
    "        return 'Hiver'\n",
    "\n",
    "df['saison'] = df['date'].apply(get_season)"
   ]
  },
  {
   "cell_type": "code",
   "execution_count": 4,
   "metadata": {},
   "outputs": [
    {
     "data": {
      "text/html": [
       "<div>\n",
       "<style scoped>\n",
       "    .dataframe tbody tr th:only-of-type {\n",
       "        vertical-align: middle;\n",
       "    }\n",
       "\n",
       "    .dataframe tbody tr th {\n",
       "        vertical-align: top;\n",
       "    }\n",
       "\n",
       "    .dataframe thead th {\n",
       "        text-align: right;\n",
       "    }\n",
       "</style>\n",
       "<table border=\"1\" class=\"dataframe\">\n",
       "  <thead>\n",
       "    <tr style=\"text-align: right;\">\n",
       "      <th></th>\n",
       "      <th>date</th>\n",
       "      <th>temperature</th>\n",
       "      <th>nb_objets</th>\n",
       "      <th>saison</th>\n",
       "    </tr>\n",
       "  </thead>\n",
       "  <tbody>\n",
       "    <tr>\n",
       "      <th>0</th>\n",
       "      <td>2019-01-01</td>\n",
       "      <td>8</td>\n",
       "      <td>5</td>\n",
       "      <td>Hiver</td>\n",
       "    </tr>\n",
       "    <tr>\n",
       "      <th>1</th>\n",
       "      <td>2019-01-02</td>\n",
       "      <td>5</td>\n",
       "      <td>90</td>\n",
       "      <td>Hiver</td>\n",
       "    </tr>\n",
       "    <tr>\n",
       "      <th>2</th>\n",
       "      <td>2019-01-03</td>\n",
       "      <td>4</td>\n",
       "      <td>107</td>\n",
       "      <td>Hiver</td>\n",
       "    </tr>\n",
       "    <tr>\n",
       "      <th>3</th>\n",
       "      <td>2019-01-04</td>\n",
       "      <td>3</td>\n",
       "      <td>84</td>\n",
       "      <td>Hiver</td>\n",
       "    </tr>\n",
       "    <tr>\n",
       "      <th>4</th>\n",
       "      <td>2019-01-05</td>\n",
       "      <td>4</td>\n",
       "      <td>78</td>\n",
       "      <td>Hiver</td>\n",
       "    </tr>\n",
       "    <tr>\n",
       "      <th>...</th>\n",
       "      <td>...</td>\n",
       "      <td>...</td>\n",
       "      <td>...</td>\n",
       "      <td>...</td>\n",
       "    </tr>\n",
       "    <tr>\n",
       "      <th>1423</th>\n",
       "      <td>2022-12-27</td>\n",
       "      <td>5</td>\n",
       "      <td>84</td>\n",
       "      <td>Hiver</td>\n",
       "    </tr>\n",
       "    <tr>\n",
       "      <th>1424</th>\n",
       "      <td>2022-12-28</td>\n",
       "      <td>9</td>\n",
       "      <td>67</td>\n",
       "      <td>Hiver</td>\n",
       "    </tr>\n",
       "    <tr>\n",
       "      <th>1425</th>\n",
       "      <td>2022-12-29</td>\n",
       "      <td>10</td>\n",
       "      <td>65</td>\n",
       "      <td>Hiver</td>\n",
       "    </tr>\n",
       "    <tr>\n",
       "      <th>1426</th>\n",
       "      <td>2022-12-30</td>\n",
       "      <td>10</td>\n",
       "      <td>61</td>\n",
       "      <td>Hiver</td>\n",
       "    </tr>\n",
       "    <tr>\n",
       "      <th>1427</th>\n",
       "      <td>2022-12-31</td>\n",
       "      <td>15</td>\n",
       "      <td>73</td>\n",
       "      <td>Hiver</td>\n",
       "    </tr>\n",
       "  </tbody>\n",
       "</table>\n",
       "<p>1428 rows × 4 columns</p>\n",
       "</div>"
      ],
      "text/plain": [
       "            date  temperature  nb_objets saison\n",
       "0     2019-01-01            8          5  Hiver\n",
       "1     2019-01-02            5         90  Hiver\n",
       "2     2019-01-03            4        107  Hiver\n",
       "3     2019-01-04            3         84  Hiver\n",
       "4     2019-01-05            4         78  Hiver\n",
       "...          ...          ...        ...    ...\n",
       "1423  2022-12-27            5         84  Hiver\n",
       "1424  2022-12-28            9         67  Hiver\n",
       "1425  2022-12-29           10         65  Hiver\n",
       "1426  2022-12-30           10         61  Hiver\n",
       "1427  2022-12-31           15         73  Hiver\n",
       "\n",
       "[1428 rows x 4 columns]"
      ]
     },
     "execution_count": 4,
     "metadata": {},
     "output_type": "execute_result"
    }
   ],
   "source": [
    "df"
   ]
  },
  {
   "cell_type": "code",
   "execution_count": 8,
   "metadata": {},
   "outputs": [
    {
     "data": {
      "application/vnd.plotly.v1+json": {
       "config": {
        "plotlyServerURL": "https://plot.ly"
       },
       "data": [
        {
         "hovertemplate": "temperature=%{x}<br>nb_objets=%{y}<extra></extra>",
         "legendgroup": "",
         "marker": {
          "color": "#636efa",
          "symbol": "circle"
         },
         "mode": "markers",
         "name": "",
         "orientation": "v",
         "showlegend": false,
         "type": "scatter",
         "x": [
          -2,
          -1,
          0,
          1,
          2,
          3,
          4,
          5,
          6,
          7,
          8,
          9,
          10,
          11,
          12,
          13,
          14,
          15,
          16,
          17,
          18,
          19,
          20,
          21,
          22,
          23,
          24,
          25,
          26,
          27,
          28,
          29,
          30,
          31,
          32,
          33
         ],
         "xaxis": "x",
         "y": [
          179,
          175,
          778,
          439,
          1039,
          1853,
          2333,
          2424,
          3575,
          3271,
          4522,
          5658,
          3340,
          3746,
          4618,
          3715,
          3863,
          4167,
          2543,
          3445,
          5020,
          4861,
          3363,
          3331,
          2826,
          2232,
          1246,
          953,
          678,
          334,
          426,
          244,
          219,
          77,
          96,
          43
         ],
         "yaxis": "y"
        },
        {
         "hovertemplate": "<b>OLS trendline</b><br>nb_objets = -42.3254 * temperature + 2923.6<br>R<sup>2</sup>=0.065654<br><br>temperature=%{x}<br>nb_objets=%{y} <b>(trend)</b><extra></extra>",
         "legendgroup": "",
         "marker": {
          "color": "#636efa",
          "symbol": "circle"
         },
         "mode": "lines",
         "name": "",
         "showlegend": false,
         "type": "scatter",
         "x": [
          -2,
          -1,
          0,
          1,
          2,
          3,
          4,
          5,
          6,
          7,
          8,
          9,
          10,
          11,
          12,
          13,
          14,
          15,
          16,
          17,
          18,
          19,
          20,
          21,
          22,
          23,
          24,
          25,
          26,
          27,
          28,
          29,
          30,
          31,
          32,
          33
         ],
         "xaxis": "x",
         "y": [
          3008.249249249249,
          2965.9238953238946,
          2923.598541398541,
          2881.273187473187,
          2838.947833547833,
          2796.622479622479,
          2754.2971256971255,
          2711.9717717717713,
          2669.6464178464175,
          2627.321063921064,
          2584.9957099957096,
          2542.670356070356,
          2500.3450021450017,
          2458.019648219648,
          2415.694294294294,
          2373.3689403689405,
          2331.0435864435863,
          2288.7182325182325,
          2246.3928785928783,
          2204.0675246675246,
          2161.742170742171,
          2119.416816816817,
          2077.091462891463,
          2034.7661089661092,
          1992.4407550407552,
          1950.1154011154013,
          1907.7900471900475,
          1865.4646932646936,
          1823.1393393393396,
          1780.8139854139856,
          1738.4886314886319,
          1696.163277563278,
          1653.837923637924,
          1611.5125697125702,
          1569.1872157872162,
          1526.8618618618623
         ],
         "yaxis": "y"
        }
       ],
       "layout": {
        "legend": {
         "tracegroupgap": 0
        },
        "template": {
         "data": {
          "bar": [
           {
            "error_x": {
             "color": "#2a3f5f"
            },
            "error_y": {
             "color": "#2a3f5f"
            },
            "marker": {
             "line": {
              "color": "#E5ECF6",
              "width": 0.5
             },
             "pattern": {
              "fillmode": "overlay",
              "size": 10,
              "solidity": 0.2
             }
            },
            "type": "bar"
           }
          ],
          "barpolar": [
           {
            "marker": {
             "line": {
              "color": "#E5ECF6",
              "width": 0.5
             },
             "pattern": {
              "fillmode": "overlay",
              "size": 10,
              "solidity": 0.2
             }
            },
            "type": "barpolar"
           }
          ],
          "carpet": [
           {
            "aaxis": {
             "endlinecolor": "#2a3f5f",
             "gridcolor": "white",
             "linecolor": "white",
             "minorgridcolor": "white",
             "startlinecolor": "#2a3f5f"
            },
            "baxis": {
             "endlinecolor": "#2a3f5f",
             "gridcolor": "white",
             "linecolor": "white",
             "minorgridcolor": "white",
             "startlinecolor": "#2a3f5f"
            },
            "type": "carpet"
           }
          ],
          "choropleth": [
           {
            "colorbar": {
             "outlinewidth": 0,
             "ticks": ""
            },
            "type": "choropleth"
           }
          ],
          "contour": [
           {
            "colorbar": {
             "outlinewidth": 0,
             "ticks": ""
            },
            "colorscale": [
             [
              0,
              "#0d0887"
             ],
             [
              0.1111111111111111,
              "#46039f"
             ],
             [
              0.2222222222222222,
              "#7201a8"
             ],
             [
              0.3333333333333333,
              "#9c179e"
             ],
             [
              0.4444444444444444,
              "#bd3786"
             ],
             [
              0.5555555555555556,
              "#d8576b"
             ],
             [
              0.6666666666666666,
              "#ed7953"
             ],
             [
              0.7777777777777778,
              "#fb9f3a"
             ],
             [
              0.8888888888888888,
              "#fdca26"
             ],
             [
              1,
              "#f0f921"
             ]
            ],
            "type": "contour"
           }
          ],
          "contourcarpet": [
           {
            "colorbar": {
             "outlinewidth": 0,
             "ticks": ""
            },
            "type": "contourcarpet"
           }
          ],
          "heatmap": [
           {
            "colorbar": {
             "outlinewidth": 0,
             "ticks": ""
            },
            "colorscale": [
             [
              0,
              "#0d0887"
             ],
             [
              0.1111111111111111,
              "#46039f"
             ],
             [
              0.2222222222222222,
              "#7201a8"
             ],
             [
              0.3333333333333333,
              "#9c179e"
             ],
             [
              0.4444444444444444,
              "#bd3786"
             ],
             [
              0.5555555555555556,
              "#d8576b"
             ],
             [
              0.6666666666666666,
              "#ed7953"
             ],
             [
              0.7777777777777778,
              "#fb9f3a"
             ],
             [
              0.8888888888888888,
              "#fdca26"
             ],
             [
              1,
              "#f0f921"
             ]
            ],
            "type": "heatmap"
           }
          ],
          "heatmapgl": [
           {
            "colorbar": {
             "outlinewidth": 0,
             "ticks": ""
            },
            "colorscale": [
             [
              0,
              "#0d0887"
             ],
             [
              0.1111111111111111,
              "#46039f"
             ],
             [
              0.2222222222222222,
              "#7201a8"
             ],
             [
              0.3333333333333333,
              "#9c179e"
             ],
             [
              0.4444444444444444,
              "#bd3786"
             ],
             [
              0.5555555555555556,
              "#d8576b"
             ],
             [
              0.6666666666666666,
              "#ed7953"
             ],
             [
              0.7777777777777778,
              "#fb9f3a"
             ],
             [
              0.8888888888888888,
              "#fdca26"
             ],
             [
              1,
              "#f0f921"
             ]
            ],
            "type": "heatmapgl"
           }
          ],
          "histogram": [
           {
            "marker": {
             "pattern": {
              "fillmode": "overlay",
              "size": 10,
              "solidity": 0.2
             }
            },
            "type": "histogram"
           }
          ],
          "histogram2d": [
           {
            "colorbar": {
             "outlinewidth": 0,
             "ticks": ""
            },
            "colorscale": [
             [
              0,
              "#0d0887"
             ],
             [
              0.1111111111111111,
              "#46039f"
             ],
             [
              0.2222222222222222,
              "#7201a8"
             ],
             [
              0.3333333333333333,
              "#9c179e"
             ],
             [
              0.4444444444444444,
              "#bd3786"
             ],
             [
              0.5555555555555556,
              "#d8576b"
             ],
             [
              0.6666666666666666,
              "#ed7953"
             ],
             [
              0.7777777777777778,
              "#fb9f3a"
             ],
             [
              0.8888888888888888,
              "#fdca26"
             ],
             [
              1,
              "#f0f921"
             ]
            ],
            "type": "histogram2d"
           }
          ],
          "histogram2dcontour": [
           {
            "colorbar": {
             "outlinewidth": 0,
             "ticks": ""
            },
            "colorscale": [
             [
              0,
              "#0d0887"
             ],
             [
              0.1111111111111111,
              "#46039f"
             ],
             [
              0.2222222222222222,
              "#7201a8"
             ],
             [
              0.3333333333333333,
              "#9c179e"
             ],
             [
              0.4444444444444444,
              "#bd3786"
             ],
             [
              0.5555555555555556,
              "#d8576b"
             ],
             [
              0.6666666666666666,
              "#ed7953"
             ],
             [
              0.7777777777777778,
              "#fb9f3a"
             ],
             [
              0.8888888888888888,
              "#fdca26"
             ],
             [
              1,
              "#f0f921"
             ]
            ],
            "type": "histogram2dcontour"
           }
          ],
          "mesh3d": [
           {
            "colorbar": {
             "outlinewidth": 0,
             "ticks": ""
            },
            "type": "mesh3d"
           }
          ],
          "parcoords": [
           {
            "line": {
             "colorbar": {
              "outlinewidth": 0,
              "ticks": ""
             }
            },
            "type": "parcoords"
           }
          ],
          "pie": [
           {
            "automargin": true,
            "type": "pie"
           }
          ],
          "scatter": [
           {
            "fillpattern": {
             "fillmode": "overlay",
             "size": 10,
             "solidity": 0.2
            },
            "type": "scatter"
           }
          ],
          "scatter3d": [
           {
            "line": {
             "colorbar": {
              "outlinewidth": 0,
              "ticks": ""
             }
            },
            "marker": {
             "colorbar": {
              "outlinewidth": 0,
              "ticks": ""
             }
            },
            "type": "scatter3d"
           }
          ],
          "scattercarpet": [
           {
            "marker": {
             "colorbar": {
              "outlinewidth": 0,
              "ticks": ""
             }
            },
            "type": "scattercarpet"
           }
          ],
          "scattergeo": [
           {
            "marker": {
             "colorbar": {
              "outlinewidth": 0,
              "ticks": ""
             }
            },
            "type": "scattergeo"
           }
          ],
          "scattergl": [
           {
            "marker": {
             "colorbar": {
              "outlinewidth": 0,
              "ticks": ""
             }
            },
            "type": "scattergl"
           }
          ],
          "scattermapbox": [
           {
            "marker": {
             "colorbar": {
              "outlinewidth": 0,
              "ticks": ""
             }
            },
            "type": "scattermapbox"
           }
          ],
          "scatterpolar": [
           {
            "marker": {
             "colorbar": {
              "outlinewidth": 0,
              "ticks": ""
             }
            },
            "type": "scatterpolar"
           }
          ],
          "scatterpolargl": [
           {
            "marker": {
             "colorbar": {
              "outlinewidth": 0,
              "ticks": ""
             }
            },
            "type": "scatterpolargl"
           }
          ],
          "scatterternary": [
           {
            "marker": {
             "colorbar": {
              "outlinewidth": 0,
              "ticks": ""
             }
            },
            "type": "scatterternary"
           }
          ],
          "surface": [
           {
            "colorbar": {
             "outlinewidth": 0,
             "ticks": ""
            },
            "colorscale": [
             [
              0,
              "#0d0887"
             ],
             [
              0.1111111111111111,
              "#46039f"
             ],
             [
              0.2222222222222222,
              "#7201a8"
             ],
             [
              0.3333333333333333,
              "#9c179e"
             ],
             [
              0.4444444444444444,
              "#bd3786"
             ],
             [
              0.5555555555555556,
              "#d8576b"
             ],
             [
              0.6666666666666666,
              "#ed7953"
             ],
             [
              0.7777777777777778,
              "#fb9f3a"
             ],
             [
              0.8888888888888888,
              "#fdca26"
             ],
             [
              1,
              "#f0f921"
             ]
            ],
            "type": "surface"
           }
          ],
          "table": [
           {
            "cells": {
             "fill": {
              "color": "#EBF0F8"
             },
             "line": {
              "color": "white"
             }
            },
            "header": {
             "fill": {
              "color": "#C8D4E3"
             },
             "line": {
              "color": "white"
             }
            },
            "type": "table"
           }
          ]
         },
         "layout": {
          "annotationdefaults": {
           "arrowcolor": "#2a3f5f",
           "arrowhead": 0,
           "arrowwidth": 1
          },
          "autotypenumbers": "strict",
          "coloraxis": {
           "colorbar": {
            "outlinewidth": 0,
            "ticks": ""
           }
          },
          "colorscale": {
           "diverging": [
            [
             0,
             "#8e0152"
            ],
            [
             0.1,
             "#c51b7d"
            ],
            [
             0.2,
             "#de77ae"
            ],
            [
             0.3,
             "#f1b6da"
            ],
            [
             0.4,
             "#fde0ef"
            ],
            [
             0.5,
             "#f7f7f7"
            ],
            [
             0.6,
             "#e6f5d0"
            ],
            [
             0.7,
             "#b8e186"
            ],
            [
             0.8,
             "#7fbc41"
            ],
            [
             0.9,
             "#4d9221"
            ],
            [
             1,
             "#276419"
            ]
           ],
           "sequential": [
            [
             0,
             "#0d0887"
            ],
            [
             0.1111111111111111,
             "#46039f"
            ],
            [
             0.2222222222222222,
             "#7201a8"
            ],
            [
             0.3333333333333333,
             "#9c179e"
            ],
            [
             0.4444444444444444,
             "#bd3786"
            ],
            [
             0.5555555555555556,
             "#d8576b"
            ],
            [
             0.6666666666666666,
             "#ed7953"
            ],
            [
             0.7777777777777778,
             "#fb9f3a"
            ],
            [
             0.8888888888888888,
             "#fdca26"
            ],
            [
             1,
             "#f0f921"
            ]
           ],
           "sequentialminus": [
            [
             0,
             "#0d0887"
            ],
            [
             0.1111111111111111,
             "#46039f"
            ],
            [
             0.2222222222222222,
             "#7201a8"
            ],
            [
             0.3333333333333333,
             "#9c179e"
            ],
            [
             0.4444444444444444,
             "#bd3786"
            ],
            [
             0.5555555555555556,
             "#d8576b"
            ],
            [
             0.6666666666666666,
             "#ed7953"
            ],
            [
             0.7777777777777778,
             "#fb9f3a"
            ],
            [
             0.8888888888888888,
             "#fdca26"
            ],
            [
             1,
             "#f0f921"
            ]
           ]
          },
          "colorway": [
           "#636efa",
           "#EF553B",
           "#00cc96",
           "#ab63fa",
           "#FFA15A",
           "#19d3f3",
           "#FF6692",
           "#B6E880",
           "#FF97FF",
           "#FECB52"
          ],
          "font": {
           "color": "#2a3f5f"
          },
          "geo": {
           "bgcolor": "white",
           "lakecolor": "white",
           "landcolor": "#E5ECF6",
           "showlakes": true,
           "showland": true,
           "subunitcolor": "white"
          },
          "hoverlabel": {
           "align": "left"
          },
          "hovermode": "closest",
          "mapbox": {
           "style": "light"
          },
          "paper_bgcolor": "white",
          "plot_bgcolor": "#E5ECF6",
          "polar": {
           "angularaxis": {
            "gridcolor": "white",
            "linecolor": "white",
            "ticks": ""
           },
           "bgcolor": "#E5ECF6",
           "radialaxis": {
            "gridcolor": "white",
            "linecolor": "white",
            "ticks": ""
           }
          },
          "scene": {
           "xaxis": {
            "backgroundcolor": "#E5ECF6",
            "gridcolor": "white",
            "gridwidth": 2,
            "linecolor": "white",
            "showbackground": true,
            "ticks": "",
            "zerolinecolor": "white"
           },
           "yaxis": {
            "backgroundcolor": "#E5ECF6",
            "gridcolor": "white",
            "gridwidth": 2,
            "linecolor": "white",
            "showbackground": true,
            "ticks": "",
            "zerolinecolor": "white"
           },
           "zaxis": {
            "backgroundcolor": "#E5ECF6",
            "gridcolor": "white",
            "gridwidth": 2,
            "linecolor": "white",
            "showbackground": true,
            "ticks": "",
            "zerolinecolor": "white"
           }
          },
          "shapedefaults": {
           "line": {
            "color": "#2a3f5f"
           }
          },
          "ternary": {
           "aaxis": {
            "gridcolor": "white",
            "linecolor": "white",
            "ticks": ""
           },
           "baxis": {
            "gridcolor": "white",
            "linecolor": "white",
            "ticks": ""
           },
           "bgcolor": "#E5ECF6",
           "caxis": {
            "gridcolor": "white",
            "linecolor": "white",
            "ticks": ""
           }
          },
          "title": {
           "x": 0.05
          },
          "xaxis": {
           "automargin": true,
           "gridcolor": "white",
           "linecolor": "white",
           "ticks": "",
           "title": {
            "standoff": 15
           },
           "zerolinecolor": "white",
           "zerolinewidth": 2
          },
          "yaxis": {
           "automargin": true,
           "gridcolor": "white",
           "linecolor": "white",
           "ticks": "",
           "title": {
            "standoff": 15
           },
           "zerolinecolor": "white",
           "zerolinewidth": 2
          }
         }
        },
        "title": {
         "text": "Nombre d'objets trouvés en fonction de la température"
        },
        "xaxis": {
         "anchor": "y",
         "domain": [
          0,
          1
         ],
         "title": {
          "text": "temperature"
         }
        },
        "yaxis": {
         "anchor": "x",
         "domain": [
          0,
          1
         ],
         "title": {
          "text": "nb_objets"
         }
        }
       }
      }
     },
     "metadata": {},
     "output_type": "display_data"
    },
    {
     "name": "stdout",
     "output_type": "stream",
     "text": [
      "Coefficient de corrélation entre la température et le nombre d'objets : 0.10\n"
     ]
    }
   ],
   "source": [
    "# Scatterplot: nombre d'objets trouvés en fonction de la température\n",
    "# Grouper les données par température et calculer le nombre total d'objets trouvés\n",
    "grouped_data = df.groupby(\"temperature\")[\"nb_objets\"].sum().reset_index()\n",
    "\n",
    "# Créer le scatterplot\n",
    "scatterplot = px.scatter(grouped_data, x=\"temperature\", y=\"nb_objets\", title=\"Nombre d'objets trouvés en fonction de la température\")\n",
    "# Ajouter une ligne de régression pour visualiser la corrélation entre les deux variables\n",
    "scatterplot.add_traces(px.scatter(grouped_data, x=\"temperature\", y=\"nb_objets\", trendline=\"ols\").data[1])\n",
    "\n",
    "# Afficher le scatterplot\n",
    "scatterplot.show()\n",
    "\n",
    "correlation = df[\"temperature\"].corr(df[\"nb_objets\"])\n",
    "print(\"Coefficient de corrélation entre la température et le nombre d'objets : {:.2f}\".format(correlation))"
   ]
  },
  {
   "cell_type": "code",
   "execution_count": 6,
   "metadata": {},
   "outputs": [
    {
     "data": {
      "application/vnd.plotly.v1+json": {
       "config": {
        "plotlyServerURL": "https://plot.ly"
       },
       "data": [
        {
         "alignmentgroup": "True",
         "hovertemplate": "saison=%{x}<br>nb_objets=%{y}<extra></extra>",
         "legendgroup": "",
         "marker": {
          "color": "#636efa",
          "pattern": {
           "shape": ""
          }
         },
         "name": "",
         "offsetgroup": "",
         "orientation": "v",
         "showlegend": false,
         "textposition": "auto",
         "type": "bar",
         "x": [
          "Automne",
          "Hiver",
          "Printemps",
          "Été"
         ],
         "xaxis": "x",
         "y": [
          59,
          56,
          46,
          65
         ],
         "yaxis": "y"
        }
       ],
       "layout": {
        "barmode": "relative",
        "legend": {
         "tracegroupgap": 0
        },
        "template": {
         "data": {
          "bar": [
           {
            "error_x": {
             "color": "#2a3f5f"
            },
            "error_y": {
             "color": "#2a3f5f"
            },
            "marker": {
             "line": {
              "color": "#E5ECF6",
              "width": 0.5
             },
             "pattern": {
              "fillmode": "overlay",
              "size": 10,
              "solidity": 0.2
             }
            },
            "type": "bar"
           }
          ],
          "barpolar": [
           {
            "marker": {
             "line": {
              "color": "#E5ECF6",
              "width": 0.5
             },
             "pattern": {
              "fillmode": "overlay",
              "size": 10,
              "solidity": 0.2
             }
            },
            "type": "barpolar"
           }
          ],
          "carpet": [
           {
            "aaxis": {
             "endlinecolor": "#2a3f5f",
             "gridcolor": "white",
             "linecolor": "white",
             "minorgridcolor": "white",
             "startlinecolor": "#2a3f5f"
            },
            "baxis": {
             "endlinecolor": "#2a3f5f",
             "gridcolor": "white",
             "linecolor": "white",
             "minorgridcolor": "white",
             "startlinecolor": "#2a3f5f"
            },
            "type": "carpet"
           }
          ],
          "choropleth": [
           {
            "colorbar": {
             "outlinewidth": 0,
             "ticks": ""
            },
            "type": "choropleth"
           }
          ],
          "contour": [
           {
            "colorbar": {
             "outlinewidth": 0,
             "ticks": ""
            },
            "colorscale": [
             [
              0,
              "#0d0887"
             ],
             [
              0.1111111111111111,
              "#46039f"
             ],
             [
              0.2222222222222222,
              "#7201a8"
             ],
             [
              0.3333333333333333,
              "#9c179e"
             ],
             [
              0.4444444444444444,
              "#bd3786"
             ],
             [
              0.5555555555555556,
              "#d8576b"
             ],
             [
              0.6666666666666666,
              "#ed7953"
             ],
             [
              0.7777777777777778,
              "#fb9f3a"
             ],
             [
              0.8888888888888888,
              "#fdca26"
             ],
             [
              1,
              "#f0f921"
             ]
            ],
            "type": "contour"
           }
          ],
          "contourcarpet": [
           {
            "colorbar": {
             "outlinewidth": 0,
             "ticks": ""
            },
            "type": "contourcarpet"
           }
          ],
          "heatmap": [
           {
            "colorbar": {
             "outlinewidth": 0,
             "ticks": ""
            },
            "colorscale": [
             [
              0,
              "#0d0887"
             ],
             [
              0.1111111111111111,
              "#46039f"
             ],
             [
              0.2222222222222222,
              "#7201a8"
             ],
             [
              0.3333333333333333,
              "#9c179e"
             ],
             [
              0.4444444444444444,
              "#bd3786"
             ],
             [
              0.5555555555555556,
              "#d8576b"
             ],
             [
              0.6666666666666666,
              "#ed7953"
             ],
             [
              0.7777777777777778,
              "#fb9f3a"
             ],
             [
              0.8888888888888888,
              "#fdca26"
             ],
             [
              1,
              "#f0f921"
             ]
            ],
            "type": "heatmap"
           }
          ],
          "heatmapgl": [
           {
            "colorbar": {
             "outlinewidth": 0,
             "ticks": ""
            },
            "colorscale": [
             [
              0,
              "#0d0887"
             ],
             [
              0.1111111111111111,
              "#46039f"
             ],
             [
              0.2222222222222222,
              "#7201a8"
             ],
             [
              0.3333333333333333,
              "#9c179e"
             ],
             [
              0.4444444444444444,
              "#bd3786"
             ],
             [
              0.5555555555555556,
              "#d8576b"
             ],
             [
              0.6666666666666666,
              "#ed7953"
             ],
             [
              0.7777777777777778,
              "#fb9f3a"
             ],
             [
              0.8888888888888888,
              "#fdca26"
             ],
             [
              1,
              "#f0f921"
             ]
            ],
            "type": "heatmapgl"
           }
          ],
          "histogram": [
           {
            "marker": {
             "pattern": {
              "fillmode": "overlay",
              "size": 10,
              "solidity": 0.2
             }
            },
            "type": "histogram"
           }
          ],
          "histogram2d": [
           {
            "colorbar": {
             "outlinewidth": 0,
             "ticks": ""
            },
            "colorscale": [
             [
              0,
              "#0d0887"
             ],
             [
              0.1111111111111111,
              "#46039f"
             ],
             [
              0.2222222222222222,
              "#7201a8"
             ],
             [
              0.3333333333333333,
              "#9c179e"
             ],
             [
              0.4444444444444444,
              "#bd3786"
             ],
             [
              0.5555555555555556,
              "#d8576b"
             ],
             [
              0.6666666666666666,
              "#ed7953"
             ],
             [
              0.7777777777777778,
              "#fb9f3a"
             ],
             [
              0.8888888888888888,
              "#fdca26"
             ],
             [
              1,
              "#f0f921"
             ]
            ],
            "type": "histogram2d"
           }
          ],
          "histogram2dcontour": [
           {
            "colorbar": {
             "outlinewidth": 0,
             "ticks": ""
            },
            "colorscale": [
             [
              0,
              "#0d0887"
             ],
             [
              0.1111111111111111,
              "#46039f"
             ],
             [
              0.2222222222222222,
              "#7201a8"
             ],
             [
              0.3333333333333333,
              "#9c179e"
             ],
             [
              0.4444444444444444,
              "#bd3786"
             ],
             [
              0.5555555555555556,
              "#d8576b"
             ],
             [
              0.6666666666666666,
              "#ed7953"
             ],
             [
              0.7777777777777778,
              "#fb9f3a"
             ],
             [
              0.8888888888888888,
              "#fdca26"
             ],
             [
              1,
              "#f0f921"
             ]
            ],
            "type": "histogram2dcontour"
           }
          ],
          "mesh3d": [
           {
            "colorbar": {
             "outlinewidth": 0,
             "ticks": ""
            },
            "type": "mesh3d"
           }
          ],
          "parcoords": [
           {
            "line": {
             "colorbar": {
              "outlinewidth": 0,
              "ticks": ""
             }
            },
            "type": "parcoords"
           }
          ],
          "pie": [
           {
            "automargin": true,
            "type": "pie"
           }
          ],
          "scatter": [
           {
            "fillpattern": {
             "fillmode": "overlay",
             "size": 10,
             "solidity": 0.2
            },
            "type": "scatter"
           }
          ],
          "scatter3d": [
           {
            "line": {
             "colorbar": {
              "outlinewidth": 0,
              "ticks": ""
             }
            },
            "marker": {
             "colorbar": {
              "outlinewidth": 0,
              "ticks": ""
             }
            },
            "type": "scatter3d"
           }
          ],
          "scattercarpet": [
           {
            "marker": {
             "colorbar": {
              "outlinewidth": 0,
              "ticks": ""
             }
            },
            "type": "scattercarpet"
           }
          ],
          "scattergeo": [
           {
            "marker": {
             "colorbar": {
              "outlinewidth": 0,
              "ticks": ""
             }
            },
            "type": "scattergeo"
           }
          ],
          "scattergl": [
           {
            "marker": {
             "colorbar": {
              "outlinewidth": 0,
              "ticks": ""
             }
            },
            "type": "scattergl"
           }
          ],
          "scattermapbox": [
           {
            "marker": {
             "colorbar": {
              "outlinewidth": 0,
              "ticks": ""
             }
            },
            "type": "scattermapbox"
           }
          ],
          "scatterpolar": [
           {
            "marker": {
             "colorbar": {
              "outlinewidth": 0,
              "ticks": ""
             }
            },
            "type": "scatterpolar"
           }
          ],
          "scatterpolargl": [
           {
            "marker": {
             "colorbar": {
              "outlinewidth": 0,
              "ticks": ""
             }
            },
            "type": "scatterpolargl"
           }
          ],
          "scatterternary": [
           {
            "marker": {
             "colorbar": {
              "outlinewidth": 0,
              "ticks": ""
             }
            },
            "type": "scatterternary"
           }
          ],
          "surface": [
           {
            "colorbar": {
             "outlinewidth": 0,
             "ticks": ""
            },
            "colorscale": [
             [
              0,
              "#0d0887"
             ],
             [
              0.1111111111111111,
              "#46039f"
             ],
             [
              0.2222222222222222,
              "#7201a8"
             ],
             [
              0.3333333333333333,
              "#9c179e"
             ],
             [
              0.4444444444444444,
              "#bd3786"
             ],
             [
              0.5555555555555556,
              "#d8576b"
             ],
             [
              0.6666666666666666,
              "#ed7953"
             ],
             [
              0.7777777777777778,
              "#fb9f3a"
             ],
             [
              0.8888888888888888,
              "#fdca26"
             ],
             [
              1,
              "#f0f921"
             ]
            ],
            "type": "surface"
           }
          ],
          "table": [
           {
            "cells": {
             "fill": {
              "color": "#EBF0F8"
             },
             "line": {
              "color": "white"
             }
            },
            "header": {
             "fill": {
              "color": "#C8D4E3"
             },
             "line": {
              "color": "white"
             }
            },
            "type": "table"
           }
          ]
         },
         "layout": {
          "annotationdefaults": {
           "arrowcolor": "#2a3f5f",
           "arrowhead": 0,
           "arrowwidth": 1
          },
          "autotypenumbers": "strict",
          "coloraxis": {
           "colorbar": {
            "outlinewidth": 0,
            "ticks": ""
           }
          },
          "colorscale": {
           "diverging": [
            [
             0,
             "#8e0152"
            ],
            [
             0.1,
             "#c51b7d"
            ],
            [
             0.2,
             "#de77ae"
            ],
            [
             0.3,
             "#f1b6da"
            ],
            [
             0.4,
             "#fde0ef"
            ],
            [
             0.5,
             "#f7f7f7"
            ],
            [
             0.6,
             "#e6f5d0"
            ],
            [
             0.7,
             "#b8e186"
            ],
            [
             0.8,
             "#7fbc41"
            ],
            [
             0.9,
             "#4d9221"
            ],
            [
             1,
             "#276419"
            ]
           ],
           "sequential": [
            [
             0,
             "#0d0887"
            ],
            [
             0.1111111111111111,
             "#46039f"
            ],
            [
             0.2222222222222222,
             "#7201a8"
            ],
            [
             0.3333333333333333,
             "#9c179e"
            ],
            [
             0.4444444444444444,
             "#bd3786"
            ],
            [
             0.5555555555555556,
             "#d8576b"
            ],
            [
             0.6666666666666666,
             "#ed7953"
            ],
            [
             0.7777777777777778,
             "#fb9f3a"
            ],
            [
             0.8888888888888888,
             "#fdca26"
            ],
            [
             1,
             "#f0f921"
            ]
           ],
           "sequentialminus": [
            [
             0,
             "#0d0887"
            ],
            [
             0.1111111111111111,
             "#46039f"
            ],
            [
             0.2222222222222222,
             "#7201a8"
            ],
            [
             0.3333333333333333,
             "#9c179e"
            ],
            [
             0.4444444444444444,
             "#bd3786"
            ],
            [
             0.5555555555555556,
             "#d8576b"
            ],
            [
             0.6666666666666666,
             "#ed7953"
            ],
            [
             0.7777777777777778,
             "#fb9f3a"
            ],
            [
             0.8888888888888888,
             "#fdca26"
            ],
            [
             1,
             "#f0f921"
            ]
           ]
          },
          "colorway": [
           "#636efa",
           "#EF553B",
           "#00cc96",
           "#ab63fa",
           "#FFA15A",
           "#19d3f3",
           "#FF6692",
           "#B6E880",
           "#FF97FF",
           "#FECB52"
          ],
          "font": {
           "color": "#2a3f5f"
          },
          "geo": {
           "bgcolor": "white",
           "lakecolor": "white",
           "landcolor": "#E5ECF6",
           "showlakes": true,
           "showland": true,
           "subunitcolor": "white"
          },
          "hoverlabel": {
           "align": "left"
          },
          "hovermode": "closest",
          "mapbox": {
           "style": "light"
          },
          "paper_bgcolor": "white",
          "plot_bgcolor": "#E5ECF6",
          "polar": {
           "angularaxis": {
            "gridcolor": "white",
            "linecolor": "white",
            "ticks": ""
           },
           "bgcolor": "#E5ECF6",
           "radialaxis": {
            "gridcolor": "white",
            "linecolor": "white",
            "ticks": ""
           }
          },
          "scene": {
           "xaxis": {
            "backgroundcolor": "#E5ECF6",
            "gridcolor": "white",
            "gridwidth": 2,
            "linecolor": "white",
            "showbackground": true,
            "ticks": "",
            "zerolinecolor": "white"
           },
           "yaxis": {
            "backgroundcolor": "#E5ECF6",
            "gridcolor": "white",
            "gridwidth": 2,
            "linecolor": "white",
            "showbackground": true,
            "ticks": "",
            "zerolinecolor": "white"
           },
           "zaxis": {
            "backgroundcolor": "#E5ECF6",
            "gridcolor": "white",
            "gridwidth": 2,
            "linecolor": "white",
            "showbackground": true,
            "ticks": "",
            "zerolinecolor": "white"
           }
          },
          "shapedefaults": {
           "line": {
            "color": "#2a3f5f"
           }
          },
          "ternary": {
           "aaxis": {
            "gridcolor": "white",
            "linecolor": "white",
            "ticks": ""
           },
           "baxis": {
            "gridcolor": "white",
            "linecolor": "white",
            "ticks": ""
           },
           "bgcolor": "#E5ECF6",
           "caxis": {
            "gridcolor": "white",
            "linecolor": "white",
            "ticks": ""
           }
          },
          "title": {
           "x": 0.05
          },
          "xaxis": {
           "automargin": true,
           "gridcolor": "white",
           "linecolor": "white",
           "ticks": "",
           "title": {
            "standoff": 15
           },
           "zerolinecolor": "white",
           "zerolinewidth": 2
          },
          "yaxis": {
           "automargin": true,
           "gridcolor": "white",
           "linecolor": "white",
           "ticks": "",
           "title": {
            "standoff": 15
           },
           "zerolinecolor": "white",
           "zerolinewidth": 2
          }
         }
        },
        "title": {
         "text": "Nombre d'objets trouvés par saison"
        },
        "xaxis": {
         "anchor": "y",
         "domain": [
          0,
          1
         ],
         "title": {
          "text": "saison"
         }
        },
        "yaxis": {
         "anchor": "x",
         "domain": [
          0,
          1
         ],
         "title": {
          "text": "nb_objets"
         }
        }
       }
      }
     },
     "metadata": {},
     "output_type": "display_data"
    }
   ],
   "source": [
    "grouped_data = df.groupby(\"saison\")[\"nb_objets\"].median().apply(np.floor).reset_index()\n",
    "grouped_data\n",
    "# fait un graphique pour la médiane des objets trouvés par saison\n",
    "barplot = px.bar(grouped_data, x=\"saison\", y=\"nb_objets\", title=\"Nombre d'objets trouvés par saison\")\n",
    "barplot.show()"
   ]
  },
  {
   "cell_type": "code",
   "execution_count": 7,
   "metadata": {},
   "outputs": [
    {
     "data": {
      "application/vnd.plotly.v1+json": {
       "config": {
        "plotlyServerURL": "https://plot.ly"
       },
       "data": [
        {
         "alignmentgroup": "True",
         "hovertemplate": "type=Accessoires 2 roues<br>saison=%{x}<br>nb_objets=%{y}<extra></extra>",
         "legendgroup": "Accessoires 2 roues",
         "marker": {
          "color": "#636efa",
          "pattern": {
           "shape": ""
          }
         },
         "name": "Accessoires 2 roues",
         "offsetgroup": "Accessoires 2 roues",
         "orientation": "v",
         "showlegend": true,
         "textposition": "auto",
         "type": "bar",
         "x": [
          "Automne",
          "Hiver",
          "Printemps",
          "Été"
         ],
         "xaxis": "x",
         "y": [
          13,
          6,
          9,
          13
         ],
         "yaxis": "y"
        },
        {
         "alignmentgroup": "True",
         "hovertemplate": "type=Accessoires de musique<br>saison=%{x}<br>nb_objets=%{y}<extra></extra>",
         "legendgroup": "Accessoires de musique",
         "marker": {
          "color": "#EF553B",
          "pattern": {
           "shape": ""
          }
         },
         "name": "Accessoires de musique",
         "offsetgroup": "Accessoires de musique",
         "orientation": "v",
         "showlegend": true,
         "textposition": "auto",
         "type": "bar",
         "x": [
          "Automne",
          "Hiver",
          "Printemps",
          "Été"
         ],
         "xaxis": "x",
         "y": [
          6,
          4,
          7,
          6
         ],
         "yaxis": "y"
        },
        {
         "alignmentgroup": "True",
         "hovertemplate": "type=Agenda, calendrier<br>saison=%{x}<br>nb_objets=%{y}<extra></extra>",
         "legendgroup": "Agenda, calendrier",
         "marker": {
          "color": "#00cc96",
          "pattern": {
           "shape": ""
          }
         },
         "name": "Agenda, calendrier",
         "offsetgroup": "Agenda, calendrier",
         "orientation": "v",
         "showlegend": true,
         "textposition": "auto",
         "type": "bar",
         "x": [
          "Automne",
          "Hiver",
          "Printemps",
          "Été"
         ],
         "xaxis": "x",
         "y": [
          57,
          57,
          44,
          52
         ],
         "yaxis": "y"
        },
        {
         "alignmentgroup": "True",
         "hovertemplate": "type=AirPod, casque audio, écouteurs<br>saison=%{x}<br>nb_objets=%{y}<extra></extra>",
         "legendgroup": "AirPod, casque audio, écouteurs",
         "marker": {
          "color": "#ab63fa",
          "pattern": {
           "shape": ""
          }
         },
         "name": "AirPod, casque audio, écouteurs",
         "offsetgroup": "AirPod, casque audio, écouteurs",
         "orientation": "v",
         "showlegend": true,
         "textposition": "auto",
         "type": "bar",
         "x": [
          "Automne",
          "Hiver",
          "Printemps",
          "Été"
         ],
         "xaxis": "x",
         "y": [
          179,
          99,
          124,
          168
         ],
         "yaxis": "y"
        },
        {
         "alignmentgroup": "True",
         "hovertemplate": "type=Appareil audio portable (lecteur de CD, baladeur MP3, iPod, ... )<br>saison=%{x}<br>nb_objets=%{y}<extra></extra>",
         "legendgroup": "Appareil audio portable (lecteur de CD, baladeur MP3, iPod, ... )",
         "marker": {
          "color": "#FFA15A",
          "pattern": {
           "shape": ""
          }
         },
         "name": "Appareil audio portable (lecteur de CD, baladeur MP3, iPod, ... )",
         "offsetgroup": "Appareil audio portable (lecteur de CD, baladeur MP3, iPod, ... )",
         "orientation": "v",
         "showlegend": true,
         "textposition": "auto",
         "type": "bar",
         "x": [
          "Automne",
          "Hiver",
          "Printemps",
          "Été"
         ],
         "xaxis": "x",
         "y": [
          49,
          65,
          52,
          80
         ],
         "yaxis": "y"
        },
        {
         "alignmentgroup": "True",
         "hovertemplate": "type=Appareil photo, caméscope/caméras et accessoires<br>saison=%{x}<br>nb_objets=%{y}<extra></extra>",
         "legendgroup": "Appareil photo, caméscope/caméras et accessoires",
         "marker": {
          "color": "#19d3f3",
          "pattern": {
           "shape": ""
          }
         },
         "name": "Appareil photo, caméscope/caméras et accessoires",
         "offsetgroup": "Appareil photo, caméscope/caméras et accessoires",
         "orientation": "v",
         "showlegend": true,
         "textposition": "auto",
         "type": "bar",
         "x": [
          "Automne",
          "Hiver",
          "Printemps",
          "Été"
         ],
         "xaxis": "x",
         "y": [
          30,
          24,
          18,
          53
         ],
         "yaxis": "y"
        },
        {
         "alignmentgroup": "True",
         "hovertemplate": "type=Appareil photo, caméscope/caméras et accessoires protégé (sac, sacoche,…)<br>saison=%{x}<br>nb_objets=%{y}<extra></extra>",
         "legendgroup": "Appareil photo, caméscope/caméras et accessoires protégé (sac, sacoche,…)",
         "marker": {
          "color": "#FF6692",
          "pattern": {
           "shape": ""
          }
         },
         "name": "Appareil photo, caméscope/caméras et accessoires protégé (sac, sacoche,…)",
         "offsetgroup": "Appareil photo, caméscope/caméras et accessoires protégé (sac, sacoche,…)",
         "orientation": "v",
         "showlegend": true,
         "textposition": "auto",
         "type": "bar",
         "x": [
          "Automne",
          "Hiver",
          "Printemps",
          "Été"
         ],
         "xaxis": "x",
         "y": [
          32,
          44,
          38,
          53
         ],
         "yaxis": "y"
        },
        {
         "alignmentgroup": "True",
         "hovertemplate": "type=Appareils auditifs<br>saison=%{x}<br>nb_objets=%{y}<extra></extra>",
         "legendgroup": "Appareils auditifs",
         "marker": {
          "color": "#B6E880",
          "pattern": {
           "shape": ""
          }
         },
         "name": "Appareils auditifs",
         "offsetgroup": "Appareils auditifs",
         "orientation": "v",
         "showlegend": true,
         "textposition": "auto",
         "type": "bar",
         "x": [
          "Automne",
          "Hiver",
          "Printemps",
          "Été"
         ],
         "xaxis": "x",
         "y": [
          2,
          7,
          7,
          7
         ],
         "yaxis": "y"
        },
        {
         "alignmentgroup": "True",
         "hovertemplate": "type=Appareils respiratoire avec ou sans protection<br>saison=%{x}<br>nb_objets=%{y}<extra></extra>",
         "legendgroup": "Appareils respiratoire avec ou sans protection",
         "marker": {
          "color": "#FF97FF",
          "pattern": {
           "shape": ""
          }
         },
         "name": "Appareils respiratoire avec ou sans protection",
         "offsetgroup": "Appareils respiratoire avec ou sans protection",
         "orientation": "v",
         "showlegend": true,
         "textposition": "auto",
         "type": "bar",
         "x": [
          "Automne",
          "Hiver",
          "Printemps",
          "Été"
         ],
         "xaxis": "x",
         "y": [
          14,
          11,
          11,
          16
         ],
         "yaxis": "y"
        },
        {
         "alignmentgroup": "True",
         "hovertemplate": "type=Argent liquide / Espèces<br>saison=%{x}<br>nb_objets=%{y}<extra></extra>",
         "legendgroup": "Argent liquide / Espèces",
         "marker": {
          "color": "#FECB52",
          "pattern": {
           "shape": ""
          }
         },
         "name": "Argent liquide / Espèces",
         "offsetgroup": "Argent liquide / Espèces",
         "orientation": "v",
         "showlegend": true,
         "textposition": "auto",
         "type": "bar",
         "x": [
          "Automne",
          "Hiver",
          "Printemps",
          "Été"
         ],
         "xaxis": "x",
         "y": [
          6,
          10,
          9,
          7
         ],
         "yaxis": "y"
        },
        {
         "alignmentgroup": "True",
         "hovertemplate": "type=Article de papéterie, stylo, classeur<br>saison=%{x}<br>nb_objets=%{y}<extra></extra>",
         "legendgroup": "Article de papéterie, stylo, classeur",
         "marker": {
          "color": "#636efa",
          "pattern": {
           "shape": ""
          }
         },
         "name": "Article de papéterie, stylo, classeur",
         "offsetgroup": "Article de papéterie, stylo, classeur",
         "orientation": "v",
         "showlegend": true,
         "textposition": "auto",
         "type": "bar",
         "x": [
          "Automne",
          "Hiver",
          "Printemps",
          "Été"
         ],
         "xaxis": "x",
         "y": [
          46,
          57,
          33,
          58
         ],
         "yaxis": "y"
        },
        {
         "alignmentgroup": "True",
         "hovertemplate": "type=Attaché-case, serviette<br>saison=%{x}<br>nb_objets=%{y}<extra></extra>",
         "legendgroup": "Attaché-case, serviette",
         "marker": {
          "color": "#EF553B",
          "pattern": {
           "shape": ""
          }
         },
         "name": "Attaché-case, serviette",
         "offsetgroup": "Attaché-case, serviette",
         "orientation": "v",
         "showlegend": true,
         "textposition": "auto",
         "type": "bar",
         "x": [
          "Automne",
          "Hiver",
          "Printemps",
          "Été"
         ],
         "xaxis": "x",
         "y": [
          57,
          65,
          58,
          51
         ],
         "yaxis": "y"
        },
        {
         "alignmentgroup": "True",
         "hovertemplate": "type=Autre argent<br>saison=%{x}<br>nb_objets=%{y}<extra></extra>",
         "legendgroup": "Autre argent",
         "marker": {
          "color": "#00cc96",
          "pattern": {
           "shape": ""
          }
         },
         "name": "Autre argent",
         "offsetgroup": "Autre argent",
         "orientation": "v",
         "showlegend": true,
         "textposition": "auto",
         "type": "bar",
         "x": [
          "Automne",
          "Hiver",
          "Printemps",
          "Été"
         ],
         "xaxis": "x",
         "y": [
          7,
          5,
          11,
          10
         ],
         "yaxis": "y"
        },
        {
         "alignmentgroup": "True",
         "hovertemplate": "type=Autre livre<br>saison=%{x}<br>nb_objets=%{y}<extra></extra>",
         "legendgroup": "Autre livre",
         "marker": {
          "color": "#ab63fa",
          "pattern": {
           "shape": ""
          }
         },
         "name": "Autre livre",
         "offsetgroup": "Autre livre",
         "orientation": "v",
         "showlegend": true,
         "textposition": "auto",
         "type": "bar",
         "x": [
          "Automne",
          "Hiver",
          "Printemps",
          "Été"
         ],
         "xaxis": "x",
         "y": [
          39,
          40,
          28,
          44
         ],
         "yaxis": "y"
        },
        {
         "alignmentgroup": "True",
         "hovertemplate": "type=Autre optique<br>saison=%{x}<br>nb_objets=%{y}<extra></extra>",
         "legendgroup": "Autre optique",
         "marker": {
          "color": "#FFA15A",
          "pattern": {
           "shape": ""
          }
         },
         "name": "Autre optique",
         "offsetgroup": "Autre optique",
         "orientation": "v",
         "showlegend": true,
         "textposition": "auto",
         "type": "bar",
         "x": [
          "Automne",
          "Hiver",
          "Été"
         ],
         "xaxis": "x",
         "y": [
          3,
          4,
          3
         ],
         "yaxis": "y"
        },
        {
         "alignmentgroup": "True",
         "hovertemplate": "type=Autre pièce ou papier personnel<br>saison=%{x}<br>nb_objets=%{y}<extra></extra>",
         "legendgroup": "Autre pièce ou papier personnel",
         "marker": {
          "color": "#19d3f3",
          "pattern": {
           "shape": ""
          }
         },
         "name": "Autre pièce ou papier personnel",
         "offsetgroup": "Autre pièce ou papier personnel",
         "orientation": "v",
         "showlegend": true,
         "textposition": "auto",
         "type": "bar",
         "x": [
          "Automne",
          "Hiver",
          "Printemps",
          "Été"
         ],
         "xaxis": "x",
         "y": [
          314,
          214,
          216,
          296
         ],
         "yaxis": "y"
        },
        {
         "alignmentgroup": "True",
         "hovertemplate": "type=Autres appareils et accessoires électroniques<br>saison=%{x}<br>nb_objets=%{y}<extra></extra>",
         "legendgroup": "Autres appareils et accessoires électroniques",
         "marker": {
          "color": "#FF6692",
          "pattern": {
           "shape": ""
          }
         },
         "name": "Autres appareils et accessoires électroniques",
         "offsetgroup": "Autres appareils et accessoires électroniques",
         "orientation": "v",
         "showlegend": true,
         "textposition": "auto",
         "type": "bar",
         "x": [
          "Automne",
          "Hiver",
          "Printemps",
          "Été"
         ],
         "xaxis": "x",
         "y": [
          213,
          244,
          200,
          280
         ],
         "yaxis": "y"
        },
        {
         "alignmentgroup": "True",
         "hovertemplate": "type=Autres articles de papeterie<br>saison=%{x}<br>nb_objets=%{y}<extra></extra>",
         "legendgroup": "Autres articles de papeterie",
         "marker": {
          "color": "#B6E880",
          "pattern": {
           "shape": ""
          }
         },
         "name": "Autres articles de papeterie",
         "offsetgroup": "Autres articles de papeterie",
         "orientation": "v",
         "showlegend": true,
         "textposition": "auto",
         "type": "bar",
         "x": [
          "Automne",
          "Hiver",
          "Printemps",
          "Été"
         ],
         "xaxis": "x",
         "y": [
          84,
          85,
          92,
          71
         ],
         "yaxis": "y"
        },
        {
         "alignmentgroup": "True",
         "hovertemplate": "type=Autres articles enfants, bébé<br>saison=%{x}<br>nb_objets=%{y}<extra></extra>",
         "legendgroup": "Autres articles enfants, bébé",
         "marker": {
          "color": "#FF97FF",
          "pattern": {
           "shape": ""
          }
         },
         "name": "Autres articles enfants, bébé",
         "offsetgroup": "Autres articles enfants, bébé",
         "orientation": "v",
         "showlegend": true,
         "textposition": "auto",
         "type": "bar",
         "x": [
          "Automne",
          "Hiver",
          "Printemps",
          "Été"
         ],
         "xaxis": "x",
         "y": [
          39,
          39,
          24,
          74
         ],
         "yaxis": "y"
        },
        {
         "alignmentgroup": "True",
         "hovertemplate": "type=Autres bijoux<br>saison=%{x}<br>nb_objets=%{y}<extra></extra>",
         "legendgroup": "Autres bijoux",
         "marker": {
          "color": "#FECB52",
          "pattern": {
           "shape": ""
          }
         },
         "name": "Autres bijoux",
         "offsetgroup": "Autres bijoux",
         "orientation": "v",
         "showlegend": true,
         "textposition": "auto",
         "type": "bar",
         "x": [
          "Automne",
          "Hiver",
          "Printemps",
          "Été"
         ],
         "xaxis": "x",
         "y": [
          3,
          9,
          4,
          3
         ],
         "yaxis": "y"
        },
        {
         "alignmentgroup": "True",
         "hovertemplate": "type=Autres divers<br>saison=%{x}<br>nb_objets=%{y}<extra></extra>",
         "legendgroup": "Autres divers",
         "marker": {
          "color": "#636efa",
          "pattern": {
           "shape": ""
          }
         },
         "name": "Autres divers",
         "offsetgroup": "Autres divers",
         "orientation": "v",
         "showlegend": true,
         "textposition": "auto",
         "type": "bar",
         "x": [
          "Automne",
          "Hiver",
          "Printemps",
          "Été"
         ],
         "xaxis": "x",
         "y": [
          311,
          285,
          271,
          367
         ],
         "yaxis": "y"
        },
        {
         "alignmentgroup": "True",
         "hovertemplate": "type=Autres instruments de musique<br>saison=%{x}<br>nb_objets=%{y}<extra></extra>",
         "legendgroup": "Autres instruments de musique",
         "marker": {
          "color": "#EF553B",
          "pattern": {
           "shape": ""
          }
         },
         "name": "Autres instruments de musique",
         "offsetgroup": "Autres instruments de musique",
         "orientation": "v",
         "showlegend": true,
         "textposition": "auto",
         "type": "bar",
         "x": [
          "Automne",
          "Hiver",
          "Printemps",
          "Été"
         ],
         "xaxis": "x",
         "y": [
          18,
          12,
          8,
          21
         ],
         "yaxis": "y"
        },
        {
         "alignmentgroup": "True",
         "hovertemplate": "type=Autres vêtements<br>saison=%{x}<br>nb_objets=%{y}<extra></extra>",
         "legendgroup": "Autres vêtements",
         "marker": {
          "color": "#00cc96",
          "pattern": {
           "shape": ""
          }
         },
         "name": "Autres vêtements",
         "offsetgroup": "Autres vêtements",
         "orientation": "v",
         "showlegend": true,
         "textposition": "auto",
         "type": "bar",
         "x": [
          "Automne",
          "Hiver",
          "Printemps",
          "Été"
         ],
         "xaxis": "x",
         "y": [
          85,
          80,
          61,
          149
         ],
         "yaxis": "y"
        },
        {
         "alignmentgroup": "True",
         "hovertemplate": "type=Badge magnétique<br>saison=%{x}<br>nb_objets=%{y}<extra></extra>",
         "legendgroup": "Badge magnétique",
         "marker": {
          "color": "#ab63fa",
          "pattern": {
           "shape": ""
          }
         },
         "name": "Badge magnétique",
         "offsetgroup": "Badge magnétique",
         "orientation": "v",
         "showlegend": true,
         "textposition": "auto",
         "type": "bar",
         "x": [
          "Automne",
          "Hiver",
          "Printemps",
          "Été"
         ],
         "xaxis": "x",
         "y": [
          29,
          25,
          21,
          25
         ],
         "yaxis": "y"
        },
        {
         "alignmentgroup": "True",
         "hovertemplate": "type=Bague<br>saison=%{x}<br>nb_objets=%{y}<extra></extra>",
         "legendgroup": "Bague",
         "marker": {
          "color": "#FFA15A",
          "pattern": {
           "shape": ""
          }
         },
         "name": "Bague",
         "offsetgroup": "Bague",
         "orientation": "v",
         "showlegend": true,
         "textposition": "auto",
         "type": "bar",
         "x": [
          "Automne",
          "Hiver",
          "Printemps",
          "Été"
         ],
         "xaxis": "x",
         "y": [
          40,
          65,
          27,
          50
         ],
         "yaxis": "y"
        },
        {
         "alignmentgroup": "True",
         "hovertemplate": "type=Bande dessinée<br>saison=%{x}<br>nb_objets=%{y}<extra></extra>",
         "legendgroup": "Bande dessinée",
         "marker": {
          "color": "#19d3f3",
          "pattern": {
           "shape": ""
          }
         },
         "name": "Bande dessinée",
         "offsetgroup": "Bande dessinée",
         "orientation": "v",
         "showlegend": true,
         "textposition": "auto",
         "type": "bar",
         "x": [
          "Automne",
          "Hiver",
          "Été"
         ],
         "xaxis": "x",
         "y": [
          5,
          2,
          3
         ],
         "yaxis": "y"
        },
        {
         "alignmentgroup": "True",
         "hovertemplate": "type=Billets SNCF<br>saison=%{x}<br>nb_objets=%{y}<extra></extra>",
         "legendgroup": "Billets SNCF",
         "marker": {
          "color": "#FF6692",
          "pattern": {
           "shape": ""
          }
         },
         "name": "Billets SNCF",
         "offsetgroup": "Billets SNCF",
         "orientation": "v",
         "showlegend": true,
         "textposition": "auto",
         "type": "bar",
         "x": [
          "Automne",
          "Hiver",
          "Printemps",
          "Été"
         ],
         "xaxis": "x",
         "y": [
          14,
          11,
          5,
          3
         ],
         "yaxis": "y"
        },
        {
         "alignmentgroup": "True",
         "hovertemplate": "type=Bonnet, chapeau<br>saison=%{x}<br>nb_objets=%{y}<extra></extra>",
         "legendgroup": "Bonnet, chapeau",
         "marker": {
          "color": "#B6E880",
          "pattern": {
           "shape": ""
          }
         },
         "name": "Bonnet, chapeau",
         "offsetgroup": "Bonnet, chapeau",
         "orientation": "v",
         "showlegend": true,
         "textposition": "auto",
         "type": "bar",
         "x": [
          "Automne",
          "Hiver",
          "Printemps",
          "Été"
         ],
         "xaxis": "x",
         "y": [
          154,
          243,
          115,
          273
         ],
         "yaxis": "y"
        },
        {
         "alignmentgroup": "True",
         "hovertemplate": "type=Boucles d'oreilles<br>saison=%{x}<br>nb_objets=%{y}<extra></extra>",
         "legendgroup": "Boucles d'oreilles",
         "marker": {
          "color": "#FF97FF",
          "pattern": {
           "shape": ""
          }
         },
         "name": "Boucles d'oreilles",
         "offsetgroup": "Boucles d'oreilles",
         "orientation": "v",
         "showlegend": true,
         "textposition": "auto",
         "type": "bar",
         "x": [
          "Automne",
          "Hiver",
          "Printemps",
          "Été"
         ],
         "xaxis": "x",
         "y": [
          25,
          16,
          12,
          12
         ],
         "yaxis": "y"
        },
        {
         "alignmentgroup": "True",
         "hovertemplate": "type=Bracelet<br>saison=%{x}<br>nb_objets=%{y}<extra></extra>",
         "legendgroup": "Bracelet",
         "marker": {
          "color": "#FECB52",
          "pattern": {
           "shape": ""
          }
         },
         "name": "Bracelet",
         "offsetgroup": "Bracelet",
         "orientation": "v",
         "showlegend": true,
         "textposition": "auto",
         "type": "bar",
         "x": [
          "Automne",
          "Hiver",
          "Printemps",
          "Été"
         ],
         "xaxis": "x",
         "y": [
          47,
          46,
          39,
          69
         ],
         "yaxis": "y"
        },
        {
         "alignmentgroup": "True",
         "hovertemplate": "type=Broche, pendentif<br>saison=%{x}<br>nb_objets=%{y}<extra></extra>",
         "legendgroup": "Broche, pendentif",
         "marker": {
          "color": "#636efa",
          "pattern": {
           "shape": ""
          }
         },
         "name": "Broche, pendentif",
         "offsetgroup": "Broche, pendentif",
         "orientation": "v",
         "showlegend": true,
         "textposition": "auto",
         "type": "bar",
         "x": [
          "Automne",
          "Hiver",
          "Printemps",
          "Été"
         ],
         "xaxis": "x",
         "y": [
          3,
          7,
          2,
          3
         ],
         "yaxis": "y"
        },
        {
         "alignmentgroup": "True",
         "hovertemplate": "type=Bâton de marche<br>saison=%{x}<br>nb_objets=%{y}<extra></extra>",
         "legendgroup": "Bâton de marche",
         "marker": {
          "color": "#EF553B",
          "pattern": {
           "shape": ""
          }
         },
         "name": "Bâton de marche",
         "offsetgroup": "Bâton de marche",
         "orientation": "v",
         "showlegend": true,
         "textposition": "auto",
         "type": "bar",
         "x": [
          "Automne",
          "Hiver",
          "Printemps",
          "Été"
         ],
         "xaxis": "x",
         "y": [
          6,
          13,
          2,
          16
         ],
         "yaxis": "y"
        },
        {
         "alignmentgroup": "True",
         "hovertemplate": "type=Béquilles<br>saison=%{x}<br>nb_objets=%{y}<extra></extra>",
         "legendgroup": "Béquilles",
         "marker": {
          "color": "#00cc96",
          "pattern": {
           "shape": ""
          }
         },
         "name": "Béquilles",
         "offsetgroup": "Béquilles",
         "orientation": "v",
         "showlegend": true,
         "textposition": "auto",
         "type": "bar",
         "x": [
          "Automne",
          "Hiver",
          "Printemps",
          "Été"
         ],
         "xaxis": "x",
         "y": [
          7,
          10,
          11,
          13
         ],
         "yaxis": "y"
        },
        {
         "alignmentgroup": "True",
         "hovertemplate": "type=Canne<br>saison=%{x}<br>nb_objets=%{y}<extra></extra>",
         "legendgroup": "Canne",
         "marker": {
          "color": "#ab63fa",
          "pattern": {
           "shape": ""
          }
         },
         "name": "Canne",
         "offsetgroup": "Canne",
         "orientation": "v",
         "showlegend": true,
         "textposition": "auto",
         "type": "bar",
         "x": [
          "Automne",
          "Hiver",
          "Printemps",
          "Été"
         ],
         "xaxis": "x",
         "y": [
          23,
          16,
          26,
          16
         ],
         "yaxis": "y"
        },
        {
         "alignmentgroup": "True",
         "hovertemplate": "type=Cartable à dessins, pochette à dessins<br>saison=%{x}<br>nb_objets=%{y}<extra></extra>",
         "legendgroup": "Cartable à dessins, pochette à dessins",
         "marker": {
          "color": "#FFA15A",
          "pattern": {
           "shape": ""
          }
         },
         "name": "Cartable à dessins, pochette à dessins",
         "offsetgroup": "Cartable à dessins, pochette à dessins",
         "orientation": "v",
         "showlegend": true,
         "textposition": "auto",
         "type": "bar",
         "x": [
          "Automne",
          "Hiver",
          "Printemps",
          "Été"
         ],
         "xaxis": "x",
         "y": [
          41,
          32,
          20,
          24
         ],
         "yaxis": "y"
        },
        {
         "alignmentgroup": "True",
         "hovertemplate": "type=Cartable, trousse d'écolier, dossier scolaire<br>saison=%{x}<br>nb_objets=%{y}<extra></extra>",
         "legendgroup": "Cartable, trousse d'écolier, dossier scolaire",
         "marker": {
          "color": "#19d3f3",
          "pattern": {
           "shape": ""
          }
         },
         "name": "Cartable, trousse d'écolier, dossier scolaire",
         "offsetgroup": "Cartable, trousse d'écolier, dossier scolaire",
         "orientation": "v",
         "showlegend": true,
         "textposition": "auto",
         "type": "bar",
         "x": [
          "Automne",
          "Hiver",
          "Printemps",
          "Été"
         ],
         "xaxis": "x",
         "y": [
          17,
          18,
          15,
          16
         ],
         "yaxis": "y"
        },
        {
         "alignmentgroup": "True",
         "hovertemplate": "type=Carte Vitale<br>saison=%{x}<br>nb_objets=%{y}<extra></extra>",
         "legendgroup": "Carte Vitale",
         "marker": {
          "color": "#FF6692",
          "pattern": {
           "shape": ""
          }
         },
         "name": "Carte Vitale",
         "offsetgroup": "Carte Vitale",
         "orientation": "v",
         "showlegend": true,
         "textposition": "auto",
         "type": "bar",
         "x": [
          "Automne",
          "Hiver",
          "Printemps",
          "Été"
         ],
         "xaxis": "x",
         "y": [
          136,
          141,
          133,
          124
         ],
         "yaxis": "y"
        },
        {
         "alignmentgroup": "True",
         "hovertemplate": "type=Carte d'abonnement<br>saison=%{x}<br>nb_objets=%{y}<extra></extra>",
         "legendgroup": "Carte d'abonnement",
         "marker": {
          "color": "#B6E880",
          "pattern": {
           "shape": ""
          }
         },
         "name": "Carte d'abonnement",
         "offsetgroup": "Carte d'abonnement",
         "orientation": "v",
         "showlegend": true,
         "textposition": "auto",
         "type": "bar",
         "x": [
          "Automne",
          "Hiver",
          "Printemps",
          "Été"
         ],
         "xaxis": "x",
         "y": [
          337,
          323,
          285,
          353
         ],
         "yaxis": "y"
        },
        {
         "alignmentgroup": "True",
         "hovertemplate": "type=Carte d'identité, passeport, permis de conduire<br>saison=%{x}<br>nb_objets=%{y}<extra></extra>",
         "legendgroup": "Carte d'identité, passeport, permis de conduire",
         "marker": {
          "color": "#FF97FF",
          "pattern": {
           "shape": ""
          }
         },
         "name": "Carte d'identité, passeport, permis de conduire",
         "offsetgroup": "Carte d'identité, passeport, permis de conduire",
         "orientation": "v",
         "showlegend": true,
         "textposition": "auto",
         "type": "bar",
         "x": [
          "Automne",
          "Hiver",
          "Printemps",
          "Été"
         ],
         "xaxis": "x",
         "y": [
          1069,
          1109,
          944,
          1336
         ],
         "yaxis": "y"
        },
        {
         "alignmentgroup": "True",
         "hovertemplate": "type=Carte de crédit<br>saison=%{x}<br>nb_objets=%{y}<extra></extra>",
         "legendgroup": "Carte de crédit",
         "marker": {
          "color": "#FECB52",
          "pattern": {
           "shape": ""
          }
         },
         "name": "Carte de crédit",
         "offsetgroup": "Carte de crédit",
         "orientation": "v",
         "showlegend": true,
         "textposition": "auto",
         "type": "bar",
         "x": [
          "Automne",
          "Hiver",
          "Printemps",
          "Été"
         ],
         "xaxis": "x",
         "y": [
          556,
          568,
          487,
          665
         ],
         "yaxis": "y"
        },
        {
         "alignmentgroup": "True",
         "hovertemplate": "type=Casque (vélo, moto)<br>saison=%{x}<br>nb_objets=%{y}<extra></extra>",
         "legendgroup": "Casque (vélo, moto)",
         "marker": {
          "color": "#636efa",
          "pattern": {
           "shape": ""
          }
         },
         "name": "Casque (vélo, moto)",
         "offsetgroup": "Casque (vélo, moto)",
         "orientation": "v",
         "showlegend": true,
         "textposition": "auto",
         "type": "bar",
         "x": [
          "Automne",
          "Hiver",
          "Printemps",
          "Été"
         ],
         "xaxis": "x",
         "y": [
          83,
          72,
          74,
          95
         ],
         "yaxis": "y"
        },
        {
         "alignmentgroup": "True",
         "hovertemplate": "type=Chaussures (autre que chaussures de ski et patins)<br>saison=%{x}<br>nb_objets=%{y}<extra></extra>",
         "legendgroup": "Chaussures (autre que chaussures de ski et patins)",
         "marker": {
          "color": "#EF553B",
          "pattern": {
           "shape": ""
          }
         },
         "name": "Chaussures (autre que chaussures de ski et patins)",
         "offsetgroup": "Chaussures (autre que chaussures de ski et patins)",
         "orientation": "v",
         "showlegend": true,
         "textposition": "auto",
         "type": "bar",
         "x": [
          "Automne",
          "Hiver",
          "Printemps",
          "Été"
         ],
         "xaxis": "x",
         "y": [
          26,
          34,
          35,
          46
         ],
         "yaxis": "y"
        },
        {
         "alignmentgroup": "True",
         "hovertemplate": "type=Chaîne, collier<br>saison=%{x}<br>nb_objets=%{y}<extra></extra>",
         "legendgroup": "Chaîne, collier",
         "marker": {
          "color": "#00cc96",
          "pattern": {
           "shape": ""
          }
         },
         "name": "Chaîne, collier",
         "offsetgroup": "Chaîne, collier",
         "orientation": "v",
         "showlegend": true,
         "textposition": "auto",
         "type": "bar",
         "x": [
          "Automne",
          "Hiver",
          "Printemps",
          "Été"
         ],
         "xaxis": "x",
         "y": [
          20,
          27,
          19,
          28
         ],
         "yaxis": "y"
        },
        {
         "alignmentgroup": "True",
         "hovertemplate": "type=Chemise à rabat<br>saison=%{x}<br>nb_objets=%{y}<extra></extra>",
         "legendgroup": "Chemise à rabat",
         "marker": {
          "color": "#ab63fa",
          "pattern": {
           "shape": ""
          }
         },
         "name": "Chemise à rabat",
         "offsetgroup": "Chemise à rabat",
         "orientation": "v",
         "showlegend": true,
         "textposition": "auto",
         "type": "bar",
         "x": [
          "Automne",
          "Hiver",
          "Printemps",
          "Été"
         ],
         "xaxis": "x",
         "y": [
          164,
          150,
          164,
          149
         ],
         "yaxis": "y"
        },
        {
         "alignmentgroup": "True",
         "hovertemplate": "type=Chéquier<br>saison=%{x}<br>nb_objets=%{y}<extra></extra>",
         "legendgroup": "Chéquier",
         "marker": {
          "color": "#FFA15A",
          "pattern": {
           "shape": ""
          }
         },
         "name": "Chéquier",
         "offsetgroup": "Chéquier",
         "orientation": "v",
         "showlegend": true,
         "textposition": "auto",
         "type": "bar",
         "x": [
          "Automne",
          "Hiver",
          "Printemps",
          "Été"
         ],
         "xaxis": "x",
         "y": [
          28,
          25,
          23,
          25
         ],
         "yaxis": "y"
        },
        {
         "alignmentgroup": "True",
         "hovertemplate": "type=Cigarette électronique<br>saison=%{x}<br>nb_objets=%{y}<extra></extra>",
         "legendgroup": "Cigarette électronique",
         "marker": {
          "color": "#19d3f3",
          "pattern": {
           "shape": ""
          }
         },
         "name": "Cigarette électronique",
         "offsetgroup": "Cigarette électronique",
         "orientation": "v",
         "showlegend": true,
         "textposition": "auto",
         "type": "bar",
         "x": [
          "Automne",
          "Hiver",
          "Printemps",
          "Été"
         ],
         "xaxis": "x",
         "y": [
          7,
          6,
          4,
          4
         ],
         "yaxis": "y"
        },
        {
         "alignmentgroup": "True",
         "hovertemplate": "type=Club de golf<br>saison=%{x}<br>nb_objets=%{y}<extra></extra>",
         "legendgroup": "Club de golf",
         "marker": {
          "color": "#FF6692",
          "pattern": {
           "shape": ""
          }
         },
         "name": "Club de golf",
         "offsetgroup": "Club de golf",
         "orientation": "v",
         "showlegend": true,
         "textposition": "auto",
         "type": "bar",
         "x": [
          "Automne",
          "Hiver",
          "Été"
         ],
         "xaxis": "x",
         "y": [
          1,
          3,
          2
         ],
         "yaxis": "y"
        },
        {
         "alignmentgroup": "True",
         "hovertemplate": "type=Clé de voiture<br>saison=%{x}<br>nb_objets=%{y}<extra></extra>",
         "legendgroup": "Clé de voiture",
         "marker": {
          "color": "#B6E880",
          "pattern": {
           "shape": ""
          }
         },
         "name": "Clé de voiture",
         "offsetgroup": "Clé de voiture",
         "orientation": "v",
         "showlegend": true,
         "textposition": "auto",
         "type": "bar",
         "x": [
          "Automne",
          "Hiver",
          "Printemps",
          "Été"
         ],
         "xaxis": "x",
         "y": [
          147,
          101,
          95,
          125
         ],
         "yaxis": "y"
        },
        {
         "alignmentgroup": "True",
         "hovertemplate": "type=Clés, porte-clés<br>saison=%{x}<br>nb_objets=%{y}<extra></extra>",
         "legendgroup": "Clés, porte-clés",
         "marker": {
          "color": "#FF97FF",
          "pattern": {
           "shape": ""
          }
         },
         "name": "Clés, porte-clés",
         "offsetgroup": "Clés, porte-clés",
         "orientation": "v",
         "showlegend": true,
         "textposition": "auto",
         "type": "bar",
         "x": [
          "Automne",
          "Hiver",
          "Printemps",
          "Été"
         ],
         "xaxis": "x",
         "y": [
          670,
          714,
          630,
          866
         ],
         "yaxis": "y"
        },
        {
         "alignmentgroup": "True",
         "hovertemplate": "type=Couteau de poche, autre couteau<br>saison=%{x}<br>nb_objets=%{y}<extra></extra>",
         "legendgroup": "Couteau de poche, autre couteau",
         "marker": {
          "color": "#FECB52",
          "pattern": {
           "shape": ""
          }
         },
         "name": "Couteau de poche, autre couteau",
         "offsetgroup": "Couteau de poche, autre couteau",
         "orientation": "v",
         "showlegend": true,
         "textposition": "auto",
         "type": "bar",
         "x": [
          "Automne",
          "Hiver",
          "Printemps",
          "Été"
         ],
         "xaxis": "x",
         "y": [
          7,
          6,
          5,
          9
         ],
         "yaxis": "y"
        },
        {
         "alignmentgroup": "True",
         "hovertemplate": "type=Diplôme, papiers personnels<br>saison=%{x}<br>nb_objets=%{y}<extra></extra>",
         "legendgroup": "Diplôme, papiers personnels",
         "marker": {
          "color": "#636efa",
          "pattern": {
           "shape": ""
          }
         },
         "name": "Diplôme, papiers personnels",
         "offsetgroup": "Diplôme, papiers personnels",
         "orientation": "v",
         "showlegend": true,
         "textposition": "auto",
         "type": "bar",
         "x": [
          "Automne",
          "Hiver",
          "Printemps",
          "Été"
         ],
         "xaxis": "x",
         "y": [
          27,
          26,
          14,
          23
         ],
         "yaxis": "y"
        },
        {
         "alignmentgroup": "True",
         "hovertemplate": "type=Disque dur externe, clé USB<br>saison=%{x}<br>nb_objets=%{y}<extra></extra>",
         "legendgroup": "Disque dur externe, clé USB",
         "marker": {
          "color": "#EF553B",
          "pattern": {
           "shape": ""
          }
         },
         "name": "Disque dur externe, clé USB",
         "offsetgroup": "Disque dur externe, clé USB",
         "orientation": "v",
         "showlegend": true,
         "textposition": "auto",
         "type": "bar",
         "x": [
          "Automne",
          "Hiver",
          "Printemps",
          "Été"
         ],
         "xaxis": "x",
         "y": [
          27,
          31,
          22,
          20
         ],
         "yaxis": "y"
        },
        {
         "alignmentgroup": "True",
         "hovertemplate": "type=Doudou, peluche<br>saison=%{x}<br>nb_objets=%{y}<extra></extra>",
         "legendgroup": "Doudou, peluche",
         "marker": {
          "color": "#00cc96",
          "pattern": {
           "shape": ""
          }
         },
         "name": "Doudou, peluche",
         "offsetgroup": "Doudou, peluche",
         "orientation": "v",
         "showlegend": true,
         "textposition": "auto",
         "type": "bar",
         "x": [
          "Automne",
          "Hiver",
          "Printemps",
          "Été"
         ],
         "xaxis": "x",
         "y": [
          39,
          58,
          50,
          83
         ],
         "yaxis": "y"
        },
        {
         "alignmentgroup": "True",
         "hovertemplate": "type=Déambulateur<br>saison=%{x}<br>nb_objets=%{y}<extra></extra>",
         "legendgroup": "Déambulateur",
         "marker": {
          "color": "#ab63fa",
          "pattern": {
           "shape": ""
          }
         },
         "name": "Déambulateur",
         "offsetgroup": "Déambulateur",
         "orientation": "v",
         "showlegend": true,
         "textposition": "auto",
         "type": "bar",
         "x": [
          "Automne",
          "Hiver",
          "Printemps",
          "Été"
         ],
         "xaxis": "x",
         "y": [
          1,
          2,
          2,
          3
         ],
         "yaxis": "y"
        },
        {
         "alignmentgroup": "True",
         "hovertemplate": "type=Etui à lunettes vide<br>saison=%{x}<br>nb_objets=%{y}<extra></extra>",
         "legendgroup": "Etui à lunettes vide",
         "marker": {
          "color": "#FFA15A",
          "pattern": {
           "shape": ""
          }
         },
         "name": "Etui à lunettes vide",
         "offsetgroup": "Etui à lunettes vide",
         "orientation": "v",
         "showlegend": true,
         "textposition": "auto",
         "type": "bar",
         "x": [
          "Automne",
          "Hiver",
          "Printemps",
          "Été"
         ],
         "xaxis": "x",
         "y": [
          19,
          11,
          16,
          34
         ],
         "yaxis": "y"
        },
        {
         "alignmentgroup": "True",
         "hovertemplate": "type=Fauteuil roulant<br>saison=%{x}<br>nb_objets=%{y}<extra></extra>",
         "legendgroup": "Fauteuil roulant",
         "marker": {
          "color": "#19d3f3",
          "pattern": {
           "shape": ""
          }
         },
         "name": "Fauteuil roulant",
         "offsetgroup": "Fauteuil roulant",
         "orientation": "v",
         "showlegend": true,
         "textposition": "auto",
         "type": "bar",
         "x": [
          "Automne",
          "Hiver",
          "Printemps"
         ],
         "xaxis": "x",
         "y": [
          2,
          1,
          3
         ],
         "yaxis": "y"
        },
        {
         "alignmentgroup": "True",
         "hovertemplate": "type=Foulard, écharpe<br>saison=%{x}<br>nb_objets=%{y}<extra></extra>",
         "legendgroup": "Foulard, écharpe",
         "marker": {
          "color": "#FF6692",
          "pattern": {
           "shape": ""
          }
         },
         "name": "Foulard, écharpe",
         "offsetgroup": "Foulard, écharpe",
         "orientation": "v",
         "showlegend": true,
         "textposition": "auto",
         "type": "bar",
         "x": [
          "Automne",
          "Hiver",
          "Printemps",
          "Été"
         ],
         "xaxis": "x",
         "y": [
          167,
          234,
          139,
          58
         ],
         "yaxis": "y"
        },
        {
         "alignmentgroup": "True",
         "hovertemplate": "type=Gants<br>saison=%{x}<br>nb_objets=%{y}<extra></extra>",
         "legendgroup": "Gants",
         "marker": {
          "color": "#B6E880",
          "pattern": {
           "shape": ""
          }
         },
         "name": "Gants",
         "offsetgroup": "Gants",
         "orientation": "v",
         "showlegend": true,
         "textposition": "auto",
         "type": "bar",
         "x": [
          "Automne",
          "Hiver",
          "Printemps",
          "Été"
         ],
         "xaxis": "x",
         "y": [
          47,
          108,
          16,
          6
         ],
         "yaxis": "y"
        },
        {
         "alignmentgroup": "True",
         "hovertemplate": "type=Guitare<br>saison=%{x}<br>nb_objets=%{y}<extra></extra>",
         "legendgroup": "Guitare",
         "marker": {
          "color": "#FF97FF",
          "pattern": {
           "shape": ""
          }
         },
         "name": "Guitare",
         "offsetgroup": "Guitare",
         "orientation": "v",
         "showlegend": true,
         "textposition": "auto",
         "type": "bar",
         "x": [
          "Automne",
          "Hiver",
          "Printemps",
          "Été"
         ],
         "xaxis": "x",
         "y": [
          20,
          16,
          16,
          31
         ],
         "yaxis": "y"
        },
        {
         "alignmentgroup": "True",
         "hovertemplate": "type=Housse de vêtement<br>saison=%{x}<br>nb_objets=%{y}<extra></extra>",
         "legendgroup": "Housse de vêtement",
         "marker": {
          "color": "#FECB52",
          "pattern": {
           "shape": ""
          }
         },
         "name": "Housse de vêtement",
         "offsetgroup": "Housse de vêtement",
         "orientation": "v",
         "showlegend": true,
         "textposition": "auto",
         "type": "bar",
         "x": [
          "Automne",
          "Hiver",
          "Printemps",
          "Été"
         ],
         "xaxis": "x",
         "y": [
          47,
          16,
          21,
          61
         ],
         "yaxis": "y"
        },
        {
         "alignmentgroup": "True",
         "hovertemplate": "type=Jeu de société<br>saison=%{x}<br>nb_objets=%{y}<extra></extra>",
         "legendgroup": "Jeu de société",
         "marker": {
          "color": "#636efa",
          "pattern": {
           "shape": ""
          }
         },
         "name": "Jeu de société",
         "offsetgroup": "Jeu de société",
         "orientation": "v",
         "showlegend": true,
         "textposition": "auto",
         "type": "bar",
         "x": [
          "Automne",
          "Printemps",
          "Été"
         ],
         "xaxis": "x",
         "y": [
          3,
          1,
          4
         ],
         "yaxis": "y"
        },
        {
         "alignmentgroup": "True",
         "hovertemplate": "type=Jeu électronique (console de jeux: Gameboy, PSP, DS, …)<br>saison=%{x}<br>nb_objets=%{y}<extra></extra>",
         "legendgroup": "Jeu électronique (console de jeux: Gameboy, PSP, DS, …)",
         "marker": {
          "color": "#EF553B",
          "pattern": {
           "shape": ""
          }
         },
         "name": "Jeu électronique (console de jeux: Gameboy, PSP, DS, …)",
         "offsetgroup": "Jeu électronique (console de jeux: Gameboy, PSP, DS, …)",
         "orientation": "v",
         "showlegend": true,
         "textposition": "auto",
         "type": "bar",
         "x": [
          "Automne",
          "Hiver",
          "Printemps",
          "Été"
         ],
         "xaxis": "x",
         "y": [
          8,
          9,
          8,
          13
         ],
         "yaxis": "y"
        },
        {
         "alignmentgroup": "True",
         "hovertemplate": "type=Landau, poussette d'enfants<br>saison=%{x}<br>nb_objets=%{y}<extra></extra>",
         "legendgroup": "Landau, poussette d'enfants",
         "marker": {
          "color": "#00cc96",
          "pattern": {
           "shape": ""
          }
         },
         "name": "Landau, poussette d'enfants",
         "offsetgroup": "Landau, poussette d'enfants",
         "orientation": "v",
         "showlegend": true,
         "textposition": "auto",
         "type": "bar",
         "x": [
          "Automne",
          "Hiver",
          "Printemps",
          "Été"
         ],
         "xaxis": "x",
         "y": [
          17,
          20,
          18,
          37
         ],
         "yaxis": "y"
        },
        {
         "alignmentgroup": "True",
         "hovertemplate": "type=Livre de poche<br>saison=%{x}<br>nb_objets=%{y}<extra></extra>",
         "legendgroup": "Livre de poche",
         "marker": {
          "color": "#ab63fa",
          "pattern": {
           "shape": ""
          }
         },
         "name": "Livre de poche",
         "offsetgroup": "Livre de poche",
         "orientation": "v",
         "showlegend": true,
         "textposition": "auto",
         "type": "bar",
         "x": [
          "Automne",
          "Hiver",
          "Printemps",
          "Été"
         ],
         "xaxis": "x",
         "y": [
          63,
          50,
          50,
          73
         ],
         "yaxis": "y"
        },
        {
         "alignmentgroup": "True",
         "hovertemplate": "type=Livre numérique<br>saison=%{x}<br>nb_objets=%{y}<extra></extra>",
         "legendgroup": "Livre numérique",
         "marker": {
          "color": "#FFA15A",
          "pattern": {
           "shape": ""
          }
         },
         "name": "Livre numérique",
         "offsetgroup": "Livre numérique",
         "orientation": "v",
         "showlegend": true,
         "textposition": "auto",
         "type": "bar",
         "x": [
          "Automne",
          "Hiver",
          "Printemps",
          "Été"
         ],
         "xaxis": "x",
         "y": [
          73,
          64,
          52,
          94
         ],
         "yaxis": "y"
        },
        {
         "alignmentgroup": "True",
         "hovertemplate": "type=Livre relié<br>saison=%{x}<br>nb_objets=%{y}<extra></extra>",
         "legendgroup": "Livre relié",
         "marker": {
          "color": "#19d3f3",
          "pattern": {
           "shape": ""
          }
         },
         "name": "Livre relié",
         "offsetgroup": "Livre relié",
         "orientation": "v",
         "showlegend": true,
         "textposition": "auto",
         "type": "bar",
         "x": [
          "Automne",
          "Hiver",
          "Printemps",
          "Été"
         ],
         "xaxis": "x",
         "y": [
          13,
          39,
          25,
          33
         ],
         "yaxis": "y"
        },
        {
         "alignmentgroup": "True",
         "hovertemplate": "type=Livre scolaire<br>saison=%{x}<br>nb_objets=%{y}<extra></extra>",
         "legendgroup": "Livre scolaire",
         "marker": {
          "color": "#FF6692",
          "pattern": {
           "shape": ""
          }
         },
         "name": "Livre scolaire",
         "offsetgroup": "Livre scolaire",
         "orientation": "v",
         "showlegend": true,
         "textposition": "auto",
         "type": "bar",
         "x": [
          "Automne",
          "Hiver",
          "Printemps",
          "Été"
         ],
         "xaxis": "x",
         "y": [
          8,
          5,
          8,
          3
         ],
         "yaxis": "y"
        },
        {
         "alignmentgroup": "True",
         "hovertemplate": "type=Lunettes<br>saison=%{x}<br>nb_objets=%{y}<extra></extra>",
         "legendgroup": "Lunettes",
         "marker": {
          "color": "#B6E880",
          "pattern": {
           "shape": ""
          }
         },
         "name": "Lunettes",
         "offsetgroup": "Lunettes",
         "orientation": "v",
         "showlegend": true,
         "textposition": "auto",
         "type": "bar",
         "x": [
          "Automne",
          "Hiver",
          "Printemps",
          "Été"
         ],
         "xaxis": "x",
         "y": [
          380,
          360,
          416,
          616
         ],
         "yaxis": "y"
        },
        {
         "alignmentgroup": "True",
         "hovertemplate": "type=Lunettes en étui<br>saison=%{x}<br>nb_objets=%{y}<extra></extra>",
         "legendgroup": "Lunettes en étui",
         "marker": {
          "color": "#FF97FF",
          "pattern": {
           "shape": ""
          }
         },
         "name": "Lunettes en étui",
         "offsetgroup": "Lunettes en étui",
         "orientation": "v",
         "showlegend": true,
         "textposition": "auto",
         "type": "bar",
         "x": [
          "Automne",
          "Hiver",
          "Printemps",
          "Été"
         ],
         "xaxis": "x",
         "y": [
          267,
          279,
          306,
          453
         ],
         "yaxis": "y"
        },
        {
         "alignmentgroup": "True",
         "hovertemplate": "type=Manteau, veste, blazer, parka, blouson, cape<br>saison=%{x}<br>nb_objets=%{y}<extra></extra>",
         "legendgroup": "Manteau, veste, blazer, parka, blouson, cape",
         "marker": {
          "color": "#FECB52",
          "pattern": {
           "shape": ""
          }
         },
         "name": "Manteau, veste, blazer, parka, blouson, cape",
         "offsetgroup": "Manteau, veste, blazer, parka, blouson, cape",
         "orientation": "v",
         "showlegend": true,
         "textposition": "auto",
         "type": "bar",
         "x": [
          "Automne",
          "Hiver",
          "Printemps",
          "Été"
         ],
         "xaxis": "x",
         "y": [
          692,
          429,
          738,
          1177
         ],
         "yaxis": "y"
        },
        {
         "alignmentgroup": "True",
         "hovertemplate": "type=Matériel diabétique<br>saison=%{x}<br>nb_objets=%{y}<extra></extra>",
         "legendgroup": "Matériel diabétique",
         "marker": {
          "color": "#636efa",
          "pattern": {
           "shape": ""
          }
         },
         "name": "Matériel diabétique",
         "offsetgroup": "Matériel diabétique",
         "orientation": "v",
         "showlegend": true,
         "textposition": "auto",
         "type": "bar",
         "x": [
          "Automne",
          "Hiver",
          "Printemps",
          "Été"
         ],
         "xaxis": "x",
         "y": [
          3,
          4,
          3,
          3
         ],
         "yaxis": "y"
        },
        {
         "alignmentgroup": "True",
         "hovertemplate": "type=Montre<br>saison=%{x}<br>nb_objets=%{y}<extra></extra>",
         "legendgroup": "Montre",
         "marker": {
          "color": "#EF553B",
          "pattern": {
           "shape": ""
          }
         },
         "name": "Montre",
         "offsetgroup": "Montre",
         "orientation": "v",
         "showlegend": true,
         "textposition": "auto",
         "type": "bar",
         "x": [
          "Automne",
          "Hiver",
          "Printemps",
          "Été"
         ],
         "xaxis": "x",
         "y": [
          60,
          50,
          72,
          77
         ],
         "yaxis": "y"
        },
        {
         "alignmentgroup": "True",
         "hovertemplate": "type=Médicaments<br>saison=%{x}<br>nb_objets=%{y}<extra></extra>",
         "legendgroup": "Médicaments",
         "marker": {
          "color": "#00cc96",
          "pattern": {
           "shape": ""
          }
         },
         "name": "Médicaments",
         "offsetgroup": "Médicaments",
         "orientation": "v",
         "showlegend": true,
         "textposition": "auto",
         "type": "bar",
         "x": [
          "Automne",
          "Hiver",
          "Printemps",
          "Été"
         ],
         "xaxis": "x",
         "y": [
          16,
          23,
          15,
          15
         ],
         "yaxis": "y"
        },
        {
         "alignmentgroup": "True",
         "hovertemplate": "type=Nécessaire, mallette de toilette, sac de maquillage<br>saison=%{x}<br>nb_objets=%{y}<extra></extra>",
         "legendgroup": "Nécessaire, mallette de toilette, sac de maquillage",
         "marker": {
          "color": "#ab63fa",
          "pattern": {
           "shape": ""
          }
         },
         "name": "Nécessaire, mallette de toilette, sac de maquillage",
         "offsetgroup": "Nécessaire, mallette de toilette, sac de maquillage",
         "orientation": "v",
         "showlegend": true,
         "textposition": "auto",
         "type": "bar",
         "x": [
          "Automne",
          "Hiver",
          "Printemps",
          "Été"
         ],
         "xaxis": "x",
         "y": [
          149,
          157,
          135,
          205
         ],
         "yaxis": "y"
        },
        {
         "alignmentgroup": "True",
         "hovertemplate": "type=Ordinateur, ordinateur portable, notebook<br>saison=%{x}<br>nb_objets=%{y}<extra></extra>",
         "legendgroup": "Ordinateur, ordinateur portable, notebook",
         "marker": {
          "color": "#FFA15A",
          "pattern": {
           "shape": ""
          }
         },
         "name": "Ordinateur, ordinateur portable, notebook",
         "offsetgroup": "Ordinateur, ordinateur portable, notebook",
         "orientation": "v",
         "showlegend": true,
         "textposition": "auto",
         "type": "bar",
         "x": [
          "Automne",
          "Hiver",
          "Printemps",
          "Été"
         ],
         "xaxis": "x",
         "y": [
          255,
          201,
          251,
          200
         ],
         "yaxis": "y"
        },
        {
         "alignmentgroup": "True",
         "hovertemplate": "type=Ordinateur, ordinateur portable, notebook protégé (étui, housse,…)<br>saison=%{x}<br>nb_objets=%{y}<extra></extra>",
         "legendgroup": "Ordinateur, ordinateur portable, notebook protégé (étui, housse,…)",
         "marker": {
          "color": "#19d3f3",
          "pattern": {
           "shape": ""
          }
         },
         "name": "Ordinateur, ordinateur portable, notebook protégé (étui, housse,…)",
         "offsetgroup": "Ordinateur, ordinateur portable, notebook protégé (étui, housse,…)",
         "orientation": "v",
         "showlegend": true,
         "textposition": "auto",
         "type": "bar",
         "x": [
          "Automne",
          "Hiver",
          "Printemps",
          "Été"
         ],
         "xaxis": "x",
         "y": [
          193,
          182,
          115,
          187
         ],
         "yaxis": "y"
        },
        {
         "alignmentgroup": "True",
         "hovertemplate": "type=Ordonnance<br>saison=%{x}<br>nb_objets=%{y}<extra></extra>",
         "legendgroup": "Ordonnance",
         "marker": {
          "color": "#FF6692",
          "pattern": {
           "shape": ""
          }
         },
         "name": "Ordonnance",
         "offsetgroup": "Ordonnance",
         "orientation": "v",
         "showlegend": true,
         "textposition": "auto",
         "type": "bar",
         "x": [
          "Automne",
          "Hiver",
          "Printemps",
          "Été"
         ],
         "xaxis": "x",
         "y": [
          8,
          12,
          5,
          5
         ],
         "yaxis": "y"
        },
        {
         "alignmentgroup": "True",
         "hovertemplate": "type=Outils, Accesoires<br>saison=%{x}<br>nb_objets=%{y}<extra></extra>",
         "legendgroup": "Outils, Accesoires",
         "marker": {
          "color": "#B6E880",
          "pattern": {
           "shape": ""
          }
         },
         "name": "Outils, Accesoires",
         "offsetgroup": "Outils, Accesoires",
         "orientation": "v",
         "showlegend": true,
         "textposition": "auto",
         "type": "bar",
         "x": [
          "Automne",
          "Hiver",
          "Printemps",
          "Été"
         ],
         "xaxis": "x",
         "y": [
          19,
          35,
          21,
          70
         ],
         "yaxis": "y"
        },
        {
         "alignmentgroup": "True",
         "hovertemplate": "type=Parapluie télescopique, parapluie de poche<br>saison=%{x}<br>nb_objets=%{y}<extra></extra>",
         "legendgroup": "Parapluie télescopique, parapluie de poche",
         "marker": {
          "color": "#FF97FF",
          "pattern": {
           "shape": ""
          }
         },
         "name": "Parapluie télescopique, parapluie de poche",
         "offsetgroup": "Parapluie télescopique, parapluie de poche",
         "orientation": "v",
         "showlegend": true,
         "textposition": "auto",
         "type": "bar",
         "x": [
          "Automne",
          "Hiver",
          "Printemps",
          "Été"
         ],
         "xaxis": "x",
         "y": [
          115,
          81,
          68,
          52
         ],
         "yaxis": "y"
        },
        {
         "alignmentgroup": "True",
         "hovertemplate": "type=Parapluie-canne, parapluie à bandoulière<br>saison=%{x}<br>nb_objets=%{y}<extra></extra>",
         "legendgroup": "Parapluie-canne, parapluie à bandoulière",
         "marker": {
          "color": "#FECB52",
          "pattern": {
           "shape": ""
          }
         },
         "name": "Parapluie-canne, parapluie à bandoulière",
         "offsetgroup": "Parapluie-canne, parapluie à bandoulière",
         "orientation": "v",
         "showlegend": true,
         "textposition": "auto",
         "type": "bar",
         "x": [
          "Automne",
          "Hiver",
          "Printemps",
          "Été"
         ],
         "xaxis": "x",
         "y": [
          64,
          57,
          56,
          36
         ],
         "yaxis": "y"
        },
        {
         "alignmentgroup": "True",
         "hovertemplate": "type=Photos, albums de photos<br>saison=%{x}<br>nb_objets=%{y}<extra></extra>",
         "legendgroup": "Photos, albums de photos",
         "marker": {
          "color": "#636efa",
          "pattern": {
           "shape": ""
          }
         },
         "name": "Photos, albums de photos",
         "offsetgroup": "Photos, albums de photos",
         "orientation": "v",
         "showlegend": true,
         "textposition": "auto",
         "type": "bar",
         "x": [
          "Automne",
          "Hiver",
          "Printemps",
          "Été"
         ],
         "xaxis": "x",
         "y": [
          4,
          6,
          3,
          4
         ],
         "yaxis": "y"
        },
        {
         "alignmentgroup": "True",
         "hovertemplate": "type=Pièce d'identité personnelle et autre<br>saison=%{x}<br>nb_objets=%{y}<extra></extra>",
         "legendgroup": "Pièce d'identité personnelle et autre",
         "marker": {
          "color": "#EF553B",
          "pattern": {
           "shape": ""
          }
         },
         "name": "Pièce d'identité personnelle et autre",
         "offsetgroup": "Pièce d'identité personnelle et autre",
         "orientation": "v",
         "showlegend": true,
         "textposition": "auto",
         "type": "bar",
         "x": [
          "Automne",
          "Hiver",
          "Printemps",
          "Été"
         ],
         "xaxis": "x",
         "y": [
          277,
          411,
          353,
          335
         ],
         "yaxis": "y"
        },
        {
         "alignmentgroup": "True",
         "hovertemplate": "type=Porte-monnaie, portefeuille<br>saison=%{x}<br>nb_objets=%{y}<extra></extra>",
         "legendgroup": "Porte-monnaie, portefeuille",
         "marker": {
          "color": "#00cc96",
          "pattern": {
           "shape": ""
          }
         },
         "name": "Porte-monnaie, portefeuille",
         "offsetgroup": "Porte-monnaie, portefeuille",
         "orientation": "v",
         "showlegend": true,
         "textposition": "auto",
         "type": "bar",
         "x": [
          "Automne",
          "Hiver",
          "Printemps",
          "Été"
         ],
         "xaxis": "x",
         "y": [
          2526,
          2369,
          2175,
          3100
         ],
         "yaxis": "y"
        },
        {
         "alignmentgroup": "True",
         "hovertemplate": "type=Poupée<br>saison=%{x}<br>nb_objets=%{y}<extra></extra>",
         "legendgroup": "Poupée",
         "marker": {
          "color": "#ab63fa",
          "pattern": {
           "shape": ""
          }
         },
         "name": "Poupée",
         "offsetgroup": "Poupée",
         "orientation": "v",
         "showlegend": true,
         "textposition": "auto",
         "type": "bar",
         "x": [
          "Automne",
          "Hiver",
          "Printemps",
          "Été"
         ],
         "xaxis": "x",
         "y": [
          2,
          3,
          3,
          3
         ],
         "yaxis": "y"
        },
        {
         "alignmentgroup": "True",
         "hovertemplate": "type=Produits cosmétiques (parfum, etc.)<br>saison=%{x}<br>nb_objets=%{y}<extra></extra>",
         "legendgroup": "Produits cosmétiques (parfum, etc.)",
         "marker": {
          "color": "#FFA15A",
          "pattern": {
           "shape": ""
          }
         },
         "name": "Produits cosmétiques (parfum, etc.)",
         "offsetgroup": "Produits cosmétiques (parfum, etc.)",
         "orientation": "v",
         "showlegend": true,
         "textposition": "auto",
         "type": "bar",
         "x": [
          "Automne",
          "Hiver",
          "Printemps",
          "Été"
         ],
         "xaxis": "x",
         "y": [
          4,
          7,
          4,
          10
         ],
         "yaxis": "y"
        },
        {
         "alignmentgroup": "True",
         "hovertemplate": "type=Pull over, gilet<br>saison=%{x}<br>nb_objets=%{y}<extra></extra>",
         "legendgroup": "Pull over, gilet",
         "marker": {
          "color": "#19d3f3",
          "pattern": {
           "shape": ""
          }
         },
         "name": "Pull over, gilet",
         "offsetgroup": "Pull over, gilet",
         "orientation": "v",
         "showlegend": true,
         "textposition": "auto",
         "type": "bar",
         "x": [
          "Automne",
          "Hiver",
          "Printemps",
          "Été"
         ],
         "xaxis": "x",
         "y": [
          87,
          35,
          86,
          210
         ],
         "yaxis": "y"
        },
        {
         "alignmentgroup": "True",
         "hovertemplate": "type=Radiographie<br>saison=%{x}<br>nb_objets=%{y}<extra></extra>",
         "legendgroup": "Radiographie",
         "marker": {
          "color": "#FF6692",
          "pattern": {
           "shape": ""
          }
         },
         "name": "Radiographie",
         "offsetgroup": "Radiographie",
         "orientation": "v",
         "showlegend": true,
         "textposition": "auto",
         "type": "bar",
         "x": [
          "Automne",
          "Hiver",
          "Printemps",
          "Été"
         ],
         "xaxis": "x",
         "y": [
          29,
          31,
          17,
          27
         ],
         "yaxis": "y"
        },
        {
         "alignmentgroup": "True",
         "hovertemplate": "type=Raquette de tennis, de badminton<br>saison=%{x}<br>nb_objets=%{y}<extra></extra>",
         "legendgroup": "Raquette de tennis, de badminton",
         "marker": {
          "color": "#B6E880",
          "pattern": {
           "shape": ""
          }
         },
         "name": "Raquette de tennis, de badminton",
         "offsetgroup": "Raquette de tennis, de badminton",
         "orientation": "v",
         "showlegend": true,
         "textposition": "auto",
         "type": "bar",
         "x": [
          "Automne",
          "Hiver",
          "Printemps",
          "Été"
         ],
         "xaxis": "x",
         "y": [
          17,
          9,
          14,
          43
         ],
         "yaxis": "y"
        },
        {
         "alignmentgroup": "True",
         "hovertemplate": "type=Rollers, patins à roulettes<br>saison=%{x}<br>nb_objets=%{y}<extra></extra>",
         "legendgroup": "Rollers, patins à roulettes",
         "marker": {
          "color": "#FF97FF",
          "pattern": {
           "shape": ""
          }
         },
         "name": "Rollers, patins à roulettes",
         "offsetgroup": "Rollers, patins à roulettes",
         "orientation": "v",
         "showlegend": true,
         "textposition": "auto",
         "type": "bar",
         "x": [
          "Automne",
          "Hiver",
          "Été"
         ],
         "xaxis": "x",
         "y": [
          2,
          2,
          2
         ],
         "yaxis": "y"
        },
        {
         "alignmentgroup": "True",
         "hovertemplate": "type=Rétroprojecteur, videoprojecteur<br>saison=%{x}<br>nb_objets=%{y}<extra></extra>",
         "legendgroup": "Rétroprojecteur, videoprojecteur",
         "marker": {
          "color": "#FECB52",
          "pattern": {
           "shape": ""
          }
         },
         "name": "Rétroprojecteur, videoprojecteur",
         "offsetgroup": "Rétroprojecteur, videoprojecteur",
         "orientation": "v",
         "showlegend": true,
         "textposition": "auto",
         "type": "bar",
         "x": [
          "Automne",
          "Hiver",
          "Printemps",
          "Été"
         ],
         "xaxis": "x",
         "y": [
          2,
          4,
          1,
          2
         ],
         "yaxis": "y"
        },
        {
         "alignmentgroup": "True",
         "hovertemplate": "type=Sac d'enseigne (plastique, papier, …)<br>saison=%{x}<br>nb_objets=%{y}<extra></extra>",
         "legendgroup": "Sac d'enseigne (plastique, papier, …)",
         "marker": {
          "color": "#636efa",
          "pattern": {
           "shape": ""
          }
         },
         "name": "Sac d'enseigne (plastique, papier, …)",
         "offsetgroup": "Sac d'enseigne (plastique, papier, …)",
         "orientation": "v",
         "showlegend": true,
         "textposition": "auto",
         "type": "bar",
         "x": [
          "Automne",
          "Hiver",
          "Printemps",
          "Été"
         ],
         "xaxis": "x",
         "y": [
          976,
          992,
          807,
          1176
         ],
         "yaxis": "y"
        },
        {
         "alignmentgroup": "True",
         "hovertemplate": "type=Sac de voyage, sac de sport, sac à bandoulière<br>saison=%{x}<br>nb_objets=%{y}<extra></extra>",
         "legendgroup": "Sac de voyage, sac de sport, sac à bandoulière",
         "marker": {
          "color": "#EF553B",
          "pattern": {
           "shape": ""
          }
         },
         "name": "Sac de voyage, sac de sport, sac à bandoulière",
         "offsetgroup": "Sac de voyage, sac de sport, sac à bandoulière",
         "orientation": "v",
         "showlegend": true,
         "textposition": "auto",
         "type": "bar",
         "x": [
          "Automne",
          "Hiver",
          "Printemps",
          "Été"
         ],
         "xaxis": "x",
         "y": [
          1052,
          936,
          782,
          1059
         ],
         "yaxis": "y"
        },
        {
         "alignmentgroup": "True",
         "hovertemplate": "type=Sac à dos<br>saison=%{x}<br>nb_objets=%{y}<extra></extra>",
         "legendgroup": "Sac à dos",
         "marker": {
          "color": "#00cc96",
          "pattern": {
           "shape": ""
          }
         },
         "name": "Sac à dos",
         "offsetgroup": "Sac à dos",
         "orientation": "v",
         "showlegend": true,
         "textposition": "auto",
         "type": "bar",
         "x": [
          "Automne",
          "Hiver",
          "Printemps",
          "Été"
         ],
         "xaxis": "x",
         "y": [
          2229,
          2155,
          1806,
          2217
         ],
         "yaxis": "y"
        },
        {
         "alignmentgroup": "True",
         "hovertemplate": "type=Sac à main<br>saison=%{x}<br>nb_objets=%{y}<extra></extra>",
         "legendgroup": "Sac à main",
         "marker": {
          "color": "#ab63fa",
          "pattern": {
           "shape": ""
          }
         },
         "name": "Sac à main",
         "offsetgroup": "Sac à main",
         "orientation": "v",
         "showlegend": true,
         "textposition": "auto",
         "type": "bar",
         "x": [
          "Automne",
          "Hiver",
          "Printemps",
          "Été"
         ],
         "xaxis": "x",
         "y": [
          675,
          682,
          526,
          766
         ],
         "yaxis": "y"
        },
        {
         "alignmentgroup": "True",
         "hovertemplate": "type=Sacoche pour ordinateur, photo, vidéo<br>saison=%{x}<br>nb_objets=%{y}<extra></extra>",
         "legendgroup": "Sacoche pour ordinateur, photo, vidéo",
         "marker": {
          "color": "#FFA15A",
          "pattern": {
           "shape": ""
          }
         },
         "name": "Sacoche pour ordinateur, photo, vidéo",
         "offsetgroup": "Sacoche pour ordinateur, photo, vidéo",
         "orientation": "v",
         "showlegend": true,
         "textposition": "auto",
         "type": "bar",
         "x": [
          "Automne",
          "Hiver",
          "Printemps",
          "Été"
         ],
         "xaxis": "x",
         "y": [
          202,
          185,
          159,
          209
         ],
         "yaxis": "y"
        },
        {
         "alignmentgroup": "True",
         "hovertemplate": "type=Sacoche ventrale, banane<br>saison=%{x}<br>nb_objets=%{y}<extra></extra>",
         "legendgroup": "Sacoche ventrale, banane",
         "marker": {
          "color": "#19d3f3",
          "pattern": {
           "shape": ""
          }
         },
         "name": "Sacoche ventrale, banane",
         "offsetgroup": "Sacoche ventrale, banane",
         "orientation": "v",
         "showlegend": true,
         "textposition": "auto",
         "type": "bar",
         "x": [
          "Automne",
          "Hiver",
          "Printemps",
          "Été"
         ],
         "xaxis": "x",
         "y": [
          226,
          216,
          179,
          297
         ],
         "yaxis": "y"
        },
        {
         "alignmentgroup": "True",
         "hovertemplate": "type=Sacs de couchage, duvet<br>saison=%{x}<br>nb_objets=%{y}<extra></extra>",
         "legendgroup": "Sacs de couchage, duvet",
         "marker": {
          "color": "#FF6692",
          "pattern": {
           "shape": ""
          }
         },
         "name": "Sacs de couchage, duvet",
         "offsetgroup": "Sacs de couchage, duvet",
         "orientation": "v",
         "showlegend": true,
         "textposition": "auto",
         "type": "bar",
         "x": [
          "Automne",
          "Hiver",
          "Printemps",
          "Été"
         ],
         "xaxis": "x",
         "y": [
          44,
          46,
          41,
          127
         ],
         "yaxis": "y"
        },
        {
         "alignmentgroup": "True",
         "hovertemplate": "type=Skateboard<br>saison=%{x}<br>nb_objets=%{y}<extra></extra>",
         "legendgroup": "Skateboard",
         "marker": {
          "color": "#B6E880",
          "pattern": {
           "shape": ""
          }
         },
         "name": "Skateboard",
         "offsetgroup": "Skateboard",
         "orientation": "v",
         "showlegend": true,
         "textposition": "auto",
         "type": "bar",
         "x": [
          "Automne",
          "Hiver",
          "Printemps",
          "Été"
         ],
         "xaxis": "x",
         "y": [
          8,
          7,
          7,
          9
         ],
         "yaxis": "y"
        },
        {
         "alignmentgroup": "True",
         "hovertemplate": "type=Skis, bâtons de ski<br>saison=%{x}<br>nb_objets=%{y}<extra></extra>",
         "legendgroup": "Skis, bâtons de ski",
         "marker": {
          "color": "#FF97FF",
          "pattern": {
           "shape": ""
          }
         },
         "name": "Skis, bâtons de ski",
         "offsetgroup": "Skis, bâtons de ski",
         "orientation": "v",
         "showlegend": true,
         "textposition": "auto",
         "type": "bar",
         "x": [
          "Automne",
          "Hiver",
          "Printemps"
         ],
         "xaxis": "x",
         "y": [
          2,
          4,
          1
         ],
         "yaxis": "y"
        },
        {
         "alignmentgroup": "True",
         "hovertemplate": "type=Snowboard<br>saison=%{x}<br>nb_objets=%{y}<extra></extra>",
         "legendgroup": "Snowboard",
         "marker": {
          "color": "#FECB52",
          "pattern": {
           "shape": ""
          }
         },
         "name": "Snowboard",
         "offsetgroup": "Snowboard",
         "orientation": "v",
         "showlegend": true,
         "textposition": "auto",
         "type": "bar",
         "x": [
          "Automne",
          "Hiver",
          "Été"
         ],
         "xaxis": "x",
         "y": [
          1,
          3,
          1
         ],
         "yaxis": "y"
        },
        {
         "alignmentgroup": "True",
         "hovertemplate": "type=Support de données (CD, DVD, etc.)<br>saison=%{x}<br>nb_objets=%{y}<extra></extra>",
         "legendgroup": "Support de données (CD, DVD, etc.)",
         "marker": {
          "color": "#636efa",
          "pattern": {
           "shape": ""
          }
         },
         "name": "Support de données (CD, DVD, etc.)",
         "offsetgroup": "Support de données (CD, DVD, etc.)",
         "orientation": "v",
         "showlegend": true,
         "textposition": "auto",
         "type": "bar",
         "x": [
          "Automne",
          "Hiver",
          "Printemps",
          "Été"
         ],
         "xaxis": "x",
         "y": [
          3,
          4,
          6,
          2
         ],
         "yaxis": "y"
        },
        {
         "alignmentgroup": "True",
         "hovertemplate": "type=Tabac et accessoire<br>saison=%{x}<br>nb_objets=%{y}<extra></extra>",
         "legendgroup": "Tabac et accessoire",
         "marker": {
          "color": "#EF553B",
          "pattern": {
           "shape": ""
          }
         },
         "name": "Tabac et accessoire",
         "offsetgroup": "Tabac et accessoire",
         "orientation": "v",
         "showlegend": true,
         "textposition": "auto",
         "type": "bar",
         "x": [
          "Automne",
          "Hiver",
          "Printemps",
          "Été"
         ],
         "xaxis": "x",
         "y": [
          4,
          9,
          5,
          8
         ],
         "yaxis": "y"
        },
        {
         "alignmentgroup": "True",
         "hovertemplate": "type=Tablette tactile<br>saison=%{x}<br>nb_objets=%{y}<extra></extra>",
         "legendgroup": "Tablette tactile",
         "marker": {
          "color": "#00cc96",
          "pattern": {
           "shape": ""
          }
         },
         "name": "Tablette tactile",
         "offsetgroup": "Tablette tactile",
         "orientation": "v",
         "showlegend": true,
         "textposition": "auto",
         "type": "bar",
         "x": [
          "Automne",
          "Hiver",
          "Printemps",
          "Été"
         ],
         "xaxis": "x",
         "y": [
          65,
          70,
          80,
          86
         ],
         "yaxis": "y"
        },
        {
         "alignmentgroup": "True",
         "hovertemplate": "type=Tablette tactile protégée (étui, housse)<br>saison=%{x}<br>nb_objets=%{y}<extra></extra>",
         "legendgroup": "Tablette tactile protégée (étui, housse)",
         "marker": {
          "color": "#ab63fa",
          "pattern": {
           "shape": ""
          }
         },
         "name": "Tablette tactile protégée (étui, housse)",
         "offsetgroup": "Tablette tactile protégée (étui, housse)",
         "orientation": "v",
         "showlegend": true,
         "textposition": "auto",
         "type": "bar",
         "x": [
          "Automne",
          "Hiver",
          "Printemps",
          "Été"
         ],
         "xaxis": "x",
         "y": [
          252,
          221,
          251,
          290
         ],
         "yaxis": "y"
        },
        {
         "alignmentgroup": "True",
         "hovertemplate": "type=Tente<br>saison=%{x}<br>nb_objets=%{y}<extra></extra>",
         "legendgroup": "Tente",
         "marker": {
          "color": "#FFA15A",
          "pattern": {
           "shape": ""
          }
         },
         "name": "Tente",
         "offsetgroup": "Tente",
         "orientation": "v",
         "showlegend": true,
         "textposition": "auto",
         "type": "bar",
         "x": [
          "Automne",
          "Hiver",
          "Printemps",
          "Été"
         ],
         "xaxis": "x",
         "y": [
          6,
          3,
          10,
          30
         ],
         "yaxis": "y"
        },
        {
         "alignmentgroup": "True",
         "hovertemplate": "type=Titre, livret d'épargne<br>saison=%{x}<br>nb_objets=%{y}<extra></extra>",
         "legendgroup": "Titre, livret d'épargne",
         "marker": {
          "color": "#19d3f3",
          "pattern": {
           "shape": ""
          }
         },
         "name": "Titre, livret d'épargne",
         "offsetgroup": "Titre, livret d'épargne",
         "orientation": "v",
         "showlegend": true,
         "textposition": "auto",
         "type": "bar",
         "x": [
          "Automne",
          "Hiver",
          "Printemps",
          "Été"
         ],
         "xaxis": "x",
         "y": [
          1,
          1,
          1,
          7
         ],
         "yaxis": "y"
        },
        {
         "alignmentgroup": "True",
         "hovertemplate": "type=Trottinette<br>saison=%{x}<br>nb_objets=%{y}<extra></extra>",
         "legendgroup": "Trottinette",
         "marker": {
          "color": "#FF6692",
          "pattern": {
           "shape": ""
          }
         },
         "name": "Trottinette",
         "offsetgroup": "Trottinette",
         "orientation": "v",
         "showlegend": true,
         "textposition": "auto",
         "type": "bar",
         "x": [
          "Automne",
          "Hiver",
          "Printemps",
          "Été"
         ],
         "xaxis": "x",
         "y": [
          24,
          30,
          33,
          55
         ],
         "yaxis": "y"
        },
        {
         "alignmentgroup": "True",
         "hovertemplate": "type=Téléphone portable<br>saison=%{x}<br>nb_objets=%{y}<extra></extra>",
         "legendgroup": "Téléphone portable",
         "marker": {
          "color": "#B6E880",
          "pattern": {
           "shape": ""
          }
         },
         "name": "Téléphone portable",
         "offsetgroup": "Téléphone portable",
         "orientation": "v",
         "showlegend": true,
         "textposition": "auto",
         "type": "bar",
         "x": [
          "Automne",
          "Hiver",
          "Printemps",
          "Été"
         ],
         "xaxis": "x",
         "y": [
          925,
          1115,
          926,
          1070
         ],
         "yaxis": "y"
        },
        {
         "alignmentgroup": "True",
         "hovertemplate": "type=Téléphone portable protégé (étui, coque,…)<br>saison=%{x}<br>nb_objets=%{y}<extra></extra>",
         "legendgroup": "Téléphone portable protégé (étui, coque,…)",
         "marker": {
          "color": "#FF97FF",
          "pattern": {
           "shape": ""
          }
         },
         "name": "Téléphone portable protégé (étui, coque,…)",
         "offsetgroup": "Téléphone portable protégé (étui, coque,…)",
         "orientation": "v",
         "showlegend": true,
         "textposition": "auto",
         "type": "bar",
         "x": [
          "Automne",
          "Hiver",
          "Printemps",
          "Été"
         ],
         "xaxis": "x",
         "y": [
          908,
          816,
          698,
          917
         ],
         "yaxis": "y"
        },
        {
         "alignmentgroup": "True",
         "hovertemplate": "type=Téléviseur, magnétoscope, lecteur DVD, radio<br>saison=%{x}<br>nb_objets=%{y}<extra></extra>",
         "legendgroup": "Téléviseur, magnétoscope, lecteur DVD, radio",
         "marker": {
          "color": "#FECB52",
          "pattern": {
           "shape": ""
          }
         },
         "name": "Téléviseur, magnétoscope, lecteur DVD, radio",
         "offsetgroup": "Téléviseur, magnétoscope, lecteur DVD, radio",
         "orientation": "v",
         "showlegend": true,
         "textposition": "auto",
         "type": "bar",
         "x": [
          "Automne",
          "Hiver",
          "Printemps",
          "Été"
         ],
         "xaxis": "x",
         "y": [
          5,
          4,
          6,
          6
         ],
         "yaxis": "y"
        },
        {
         "alignmentgroup": "True",
         "hovertemplate": "type=Valise, sac sur roulettes<br>saison=%{x}<br>nb_objets=%{y}<extra></extra>",
         "legendgroup": "Valise, sac sur roulettes",
         "marker": {
          "color": "#636efa",
          "pattern": {
           "shape": ""
          }
         },
         "name": "Valise, sac sur roulettes",
         "offsetgroup": "Valise, sac sur roulettes",
         "orientation": "v",
         "showlegend": true,
         "textposition": "auto",
         "type": "bar",
         "x": [
          "Automne",
          "Hiver",
          "Printemps",
          "Été"
         ],
         "xaxis": "x",
         "y": [
          1712,
          1503,
          1316,
          1804
         ],
         "yaxis": "y"
        },
        {
         "alignmentgroup": "True",
         "hovertemplate": "type=Violon<br>saison=%{x}<br>nb_objets=%{y}<extra></extra>",
         "legendgroup": "Violon",
         "marker": {
          "color": "#EF553B",
          "pattern": {
           "shape": ""
          }
         },
         "name": "Violon",
         "offsetgroup": "Violon",
         "orientation": "v",
         "showlegend": true,
         "textposition": "auto",
         "type": "bar",
         "x": [
          "Automne",
          "Hiver",
          "Printemps",
          "Été"
         ],
         "xaxis": "x",
         "y": [
          2,
          5,
          4,
          7
         ],
         "yaxis": "y"
        },
        {
         "alignmentgroup": "True",
         "hovertemplate": "type=Vélo<br>saison=%{x}<br>nb_objets=%{y}<extra></extra>",
         "legendgroup": "Vélo",
         "marker": {
          "color": "#00cc96",
          "pattern": {
           "shape": ""
          }
         },
         "name": "Vélo",
         "offsetgroup": "Vélo",
         "orientation": "v",
         "showlegend": true,
         "textposition": "auto",
         "type": "bar",
         "x": [
          "Automne",
          "Hiver",
          "Printemps",
          "Été"
         ],
         "xaxis": "x",
         "y": [
          55,
          49,
          91,
          80
         ],
         "yaxis": "y"
        },
        {
         "alignmentgroup": "True",
         "hovertemplate": "type=Après-ski<br>saison=%{x}<br>nb_objets=%{y}<extra></extra>",
         "legendgroup": "Après-ski",
         "marker": {
          "color": "#ab63fa",
          "pattern": {
           "shape": ""
          }
         },
         "name": "Après-ski",
         "offsetgroup": "Après-ski",
         "orientation": "v",
         "showlegend": true,
         "textposition": "auto",
         "type": "bar",
         "x": [
          "Hiver",
          "Printemps"
         ],
         "xaxis": "x",
         "y": [
          1,
          1
         ],
         "yaxis": "y"
        },
        {
         "alignmentgroup": "True",
         "hovertemplate": "type=Autre petit véhicule<br>saison=%{x}<br>nb_objets=%{y}<extra></extra>",
         "legendgroup": "Autre petit véhicule",
         "marker": {
          "color": "#FFA15A",
          "pattern": {
           "shape": ""
          }
         },
         "name": "Autre petit véhicule",
         "offsetgroup": "Autre petit véhicule",
         "orientation": "v",
         "showlegend": true,
         "textposition": "auto",
         "type": "bar",
         "x": [
          "Hiver",
          "Printemps",
          "Été"
         ],
         "xaxis": "x",
         "y": [
          3,
          7,
          5
         ],
         "yaxis": "y"
        },
        {
         "alignmentgroup": "True",
         "hovertemplate": "type=Calculatrice de poche<br>saison=%{x}<br>nb_objets=%{y}<extra></extra>",
         "legendgroup": "Calculatrice de poche",
         "marker": {
          "color": "#19d3f3",
          "pattern": {
           "shape": ""
          }
         },
         "name": "Calculatrice de poche",
         "offsetgroup": "Calculatrice de poche",
         "orientation": "v",
         "showlegend": true,
         "textposition": "auto",
         "type": "bar",
         "x": [
          "Hiver",
          "Printemps"
         ],
         "xaxis": "x",
         "y": [
          1,
          2
         ],
         "yaxis": "y"
        },
        {
         "alignmentgroup": "True",
         "hovertemplate": "type=Chaussures de ski, patins à glace<br>saison=%{x}<br>nb_objets=%{y}<extra></extra>",
         "legendgroup": "Chaussures de ski, patins à glace",
         "marker": {
          "color": "#FF6692",
          "pattern": {
           "shape": ""
          }
         },
         "name": "Chaussures de ski, patins à glace",
         "offsetgroup": "Chaussures de ski, patins à glace",
         "orientation": "v",
         "showlegend": true,
         "textposition": "auto",
         "type": "bar",
         "x": [
          "Hiver",
          "Printemps"
         ],
         "xaxis": "x",
         "y": [
          5,
          1
         ],
         "yaxis": "y"
        },
        {
         "alignmentgroup": "True",
         "hovertemplate": "type=Flûte<br>saison=%{x}<br>nb_objets=%{y}<extra></extra>",
         "legendgroup": "Flûte",
         "marker": {
          "color": "#B6E880",
          "pattern": {
           "shape": ""
          }
         },
         "name": "Flûte",
         "offsetgroup": "Flûte",
         "orientation": "v",
         "showlegend": true,
         "textposition": "auto",
         "type": "bar",
         "x": [
          "Hiver",
          "Printemps"
         ],
         "xaxis": "x",
         "y": [
          3,
          1
         ],
         "yaxis": "y"
        },
        {
         "alignmentgroup": "True",
         "hovertemplate": "type=GPS<br>saison=%{x}<br>nb_objets=%{y}<extra></extra>",
         "legendgroup": "GPS",
         "marker": {
          "color": "#FF97FF",
          "pattern": {
           "shape": ""
          }
         },
         "name": "GPS",
         "offsetgroup": "GPS",
         "orientation": "v",
         "showlegend": true,
         "textposition": "auto",
         "type": "bar",
         "x": [
          "Hiver",
          "Printemps",
          "Été"
         ],
         "xaxis": "x",
         "y": [
          5,
          1,
          1
         ],
         "yaxis": "y"
        },
        {
         "alignmentgroup": "True",
         "hovertemplate": "type=Jumelles<br>saison=%{x}<br>nb_objets=%{y}<extra></extra>",
         "legendgroup": "Jumelles",
         "marker": {
          "color": "#FECB52",
          "pattern": {
           "shape": ""
          }
         },
         "name": "Jumelles",
         "offsetgroup": "Jumelles",
         "orientation": "v",
         "showlegend": true,
         "textposition": "auto",
         "type": "bar",
         "x": [
          "Hiver",
          "Été"
         ],
         "xaxis": "x",
         "y": [
          1,
          5
         ],
         "yaxis": "y"
        },
        {
         "alignmentgroup": "True",
         "hovertemplate": "type=Luge<br>saison=%{x}<br>nb_objets=%{y}<extra></extra>",
         "legendgroup": "Luge",
         "marker": {
          "color": "#636efa",
          "pattern": {
           "shape": ""
          }
         },
         "name": "Luge",
         "offsetgroup": "Luge",
         "orientation": "v",
         "showlegend": true,
         "textposition": "auto",
         "type": "bar",
         "x": [
          "Hiver"
         ],
         "xaxis": "x",
         "y": [
          1
         ],
         "yaxis": "y"
        },
        {
         "alignmentgroup": "True",
         "hovertemplate": "type=Siège auto<br>saison=%{x}<br>nb_objets=%{y}<extra></extra>",
         "legendgroup": "Siège auto",
         "marker": {
          "color": "#EF553B",
          "pattern": {
           "shape": ""
          }
         },
         "name": "Siège auto",
         "offsetgroup": "Siège auto",
         "orientation": "v",
         "showlegend": true,
         "textposition": "auto",
         "type": "bar",
         "x": [
          "Hiver",
          "Printemps",
          "Été"
         ],
         "xaxis": "x",
         "y": [
          1,
          6,
          7
         ],
         "yaxis": "y"
        }
       ],
       "layout": {
        "barmode": "relative",
        "legend": {
         "title": {
          "text": "type"
         },
         "tracegroupgap": 0
        },
        "template": {
         "data": {
          "bar": [
           {
            "error_x": {
             "color": "#2a3f5f"
            },
            "error_y": {
             "color": "#2a3f5f"
            },
            "marker": {
             "line": {
              "color": "#E5ECF6",
              "width": 0.5
             },
             "pattern": {
              "fillmode": "overlay",
              "size": 10,
              "solidity": 0.2
             }
            },
            "type": "bar"
           }
          ],
          "barpolar": [
           {
            "marker": {
             "line": {
              "color": "#E5ECF6",
              "width": 0.5
             },
             "pattern": {
              "fillmode": "overlay",
              "size": 10,
              "solidity": 0.2
             }
            },
            "type": "barpolar"
           }
          ],
          "carpet": [
           {
            "aaxis": {
             "endlinecolor": "#2a3f5f",
             "gridcolor": "white",
             "linecolor": "white",
             "minorgridcolor": "white",
             "startlinecolor": "#2a3f5f"
            },
            "baxis": {
             "endlinecolor": "#2a3f5f",
             "gridcolor": "white",
             "linecolor": "white",
             "minorgridcolor": "white",
             "startlinecolor": "#2a3f5f"
            },
            "type": "carpet"
           }
          ],
          "choropleth": [
           {
            "colorbar": {
             "outlinewidth": 0,
             "ticks": ""
            },
            "type": "choropleth"
           }
          ],
          "contour": [
           {
            "colorbar": {
             "outlinewidth": 0,
             "ticks": ""
            },
            "colorscale": [
             [
              0,
              "#0d0887"
             ],
             [
              0.1111111111111111,
              "#46039f"
             ],
             [
              0.2222222222222222,
              "#7201a8"
             ],
             [
              0.3333333333333333,
              "#9c179e"
             ],
             [
              0.4444444444444444,
              "#bd3786"
             ],
             [
              0.5555555555555556,
              "#d8576b"
             ],
             [
              0.6666666666666666,
              "#ed7953"
             ],
             [
              0.7777777777777778,
              "#fb9f3a"
             ],
             [
              0.8888888888888888,
              "#fdca26"
             ],
             [
              1,
              "#f0f921"
             ]
            ],
            "type": "contour"
           }
          ],
          "contourcarpet": [
           {
            "colorbar": {
             "outlinewidth": 0,
             "ticks": ""
            },
            "type": "contourcarpet"
           }
          ],
          "heatmap": [
           {
            "colorbar": {
             "outlinewidth": 0,
             "ticks": ""
            },
            "colorscale": [
             [
              0,
              "#0d0887"
             ],
             [
              0.1111111111111111,
              "#46039f"
             ],
             [
              0.2222222222222222,
              "#7201a8"
             ],
             [
              0.3333333333333333,
              "#9c179e"
             ],
             [
              0.4444444444444444,
              "#bd3786"
             ],
             [
              0.5555555555555556,
              "#d8576b"
             ],
             [
              0.6666666666666666,
              "#ed7953"
             ],
             [
              0.7777777777777778,
              "#fb9f3a"
             ],
             [
              0.8888888888888888,
              "#fdca26"
             ],
             [
              1,
              "#f0f921"
             ]
            ],
            "type": "heatmap"
           }
          ],
          "heatmapgl": [
           {
            "colorbar": {
             "outlinewidth": 0,
             "ticks": ""
            },
            "colorscale": [
             [
              0,
              "#0d0887"
             ],
             [
              0.1111111111111111,
              "#46039f"
             ],
             [
              0.2222222222222222,
              "#7201a8"
             ],
             [
              0.3333333333333333,
              "#9c179e"
             ],
             [
              0.4444444444444444,
              "#bd3786"
             ],
             [
              0.5555555555555556,
              "#d8576b"
             ],
             [
              0.6666666666666666,
              "#ed7953"
             ],
             [
              0.7777777777777778,
              "#fb9f3a"
             ],
             [
              0.8888888888888888,
              "#fdca26"
             ],
             [
              1,
              "#f0f921"
             ]
            ],
            "type": "heatmapgl"
           }
          ],
          "histogram": [
           {
            "marker": {
             "pattern": {
              "fillmode": "overlay",
              "size": 10,
              "solidity": 0.2
             }
            },
            "type": "histogram"
           }
          ],
          "histogram2d": [
           {
            "colorbar": {
             "outlinewidth": 0,
             "ticks": ""
            },
            "colorscale": [
             [
              0,
              "#0d0887"
             ],
             [
              0.1111111111111111,
              "#46039f"
             ],
             [
              0.2222222222222222,
              "#7201a8"
             ],
             [
              0.3333333333333333,
              "#9c179e"
             ],
             [
              0.4444444444444444,
              "#bd3786"
             ],
             [
              0.5555555555555556,
              "#d8576b"
             ],
             [
              0.6666666666666666,
              "#ed7953"
             ],
             [
              0.7777777777777778,
              "#fb9f3a"
             ],
             [
              0.8888888888888888,
              "#fdca26"
             ],
             [
              1,
              "#f0f921"
             ]
            ],
            "type": "histogram2d"
           }
          ],
          "histogram2dcontour": [
           {
            "colorbar": {
             "outlinewidth": 0,
             "ticks": ""
            },
            "colorscale": [
             [
              0,
              "#0d0887"
             ],
             [
              0.1111111111111111,
              "#46039f"
             ],
             [
              0.2222222222222222,
              "#7201a8"
             ],
             [
              0.3333333333333333,
              "#9c179e"
             ],
             [
              0.4444444444444444,
              "#bd3786"
             ],
             [
              0.5555555555555556,
              "#d8576b"
             ],
             [
              0.6666666666666666,
              "#ed7953"
             ],
             [
              0.7777777777777778,
              "#fb9f3a"
             ],
             [
              0.8888888888888888,
              "#fdca26"
             ],
             [
              1,
              "#f0f921"
             ]
            ],
            "type": "histogram2dcontour"
           }
          ],
          "mesh3d": [
           {
            "colorbar": {
             "outlinewidth": 0,
             "ticks": ""
            },
            "type": "mesh3d"
           }
          ],
          "parcoords": [
           {
            "line": {
             "colorbar": {
              "outlinewidth": 0,
              "ticks": ""
             }
            },
            "type": "parcoords"
           }
          ],
          "pie": [
           {
            "automargin": true,
            "type": "pie"
           }
          ],
          "scatter": [
           {
            "fillpattern": {
             "fillmode": "overlay",
             "size": 10,
             "solidity": 0.2
            },
            "type": "scatter"
           }
          ],
          "scatter3d": [
           {
            "line": {
             "colorbar": {
              "outlinewidth": 0,
              "ticks": ""
             }
            },
            "marker": {
             "colorbar": {
              "outlinewidth": 0,
              "ticks": ""
             }
            },
            "type": "scatter3d"
           }
          ],
          "scattercarpet": [
           {
            "marker": {
             "colorbar": {
              "outlinewidth": 0,
              "ticks": ""
             }
            },
            "type": "scattercarpet"
           }
          ],
          "scattergeo": [
           {
            "marker": {
             "colorbar": {
              "outlinewidth": 0,
              "ticks": ""
             }
            },
            "type": "scattergeo"
           }
          ],
          "scattergl": [
           {
            "marker": {
             "colorbar": {
              "outlinewidth": 0,
              "ticks": ""
             }
            },
            "type": "scattergl"
           }
          ],
          "scattermapbox": [
           {
            "marker": {
             "colorbar": {
              "outlinewidth": 0,
              "ticks": ""
             }
            },
            "type": "scattermapbox"
           }
          ],
          "scatterpolar": [
           {
            "marker": {
             "colorbar": {
              "outlinewidth": 0,
              "ticks": ""
             }
            },
            "type": "scatterpolar"
           }
          ],
          "scatterpolargl": [
           {
            "marker": {
             "colorbar": {
              "outlinewidth": 0,
              "ticks": ""
             }
            },
            "type": "scatterpolargl"
           }
          ],
          "scatterternary": [
           {
            "marker": {
             "colorbar": {
              "outlinewidth": 0,
              "ticks": ""
             }
            },
            "type": "scatterternary"
           }
          ],
          "surface": [
           {
            "colorbar": {
             "outlinewidth": 0,
             "ticks": ""
            },
            "colorscale": [
             [
              0,
              "#0d0887"
             ],
             [
              0.1111111111111111,
              "#46039f"
             ],
             [
              0.2222222222222222,
              "#7201a8"
             ],
             [
              0.3333333333333333,
              "#9c179e"
             ],
             [
              0.4444444444444444,
              "#bd3786"
             ],
             [
              0.5555555555555556,
              "#d8576b"
             ],
             [
              0.6666666666666666,
              "#ed7953"
             ],
             [
              0.7777777777777778,
              "#fb9f3a"
             ],
             [
              0.8888888888888888,
              "#fdca26"
             ],
             [
              1,
              "#f0f921"
             ]
            ],
            "type": "surface"
           }
          ],
          "table": [
           {
            "cells": {
             "fill": {
              "color": "#EBF0F8"
             },
             "line": {
              "color": "white"
             }
            },
            "header": {
             "fill": {
              "color": "#C8D4E3"
             },
             "line": {
              "color": "white"
             }
            },
            "type": "table"
           }
          ]
         },
         "layout": {
          "annotationdefaults": {
           "arrowcolor": "#2a3f5f",
           "arrowhead": 0,
           "arrowwidth": 1
          },
          "autotypenumbers": "strict",
          "coloraxis": {
           "colorbar": {
            "outlinewidth": 0,
            "ticks": ""
           }
          },
          "colorscale": {
           "diverging": [
            [
             0,
             "#8e0152"
            ],
            [
             0.1,
             "#c51b7d"
            ],
            [
             0.2,
             "#de77ae"
            ],
            [
             0.3,
             "#f1b6da"
            ],
            [
             0.4,
             "#fde0ef"
            ],
            [
             0.5,
             "#f7f7f7"
            ],
            [
             0.6,
             "#e6f5d0"
            ],
            [
             0.7,
             "#b8e186"
            ],
            [
             0.8,
             "#7fbc41"
            ],
            [
             0.9,
             "#4d9221"
            ],
            [
             1,
             "#276419"
            ]
           ],
           "sequential": [
            [
             0,
             "#0d0887"
            ],
            [
             0.1111111111111111,
             "#46039f"
            ],
            [
             0.2222222222222222,
             "#7201a8"
            ],
            [
             0.3333333333333333,
             "#9c179e"
            ],
            [
             0.4444444444444444,
             "#bd3786"
            ],
            [
             0.5555555555555556,
             "#d8576b"
            ],
            [
             0.6666666666666666,
             "#ed7953"
            ],
            [
             0.7777777777777778,
             "#fb9f3a"
            ],
            [
             0.8888888888888888,
             "#fdca26"
            ],
            [
             1,
             "#f0f921"
            ]
           ],
           "sequentialminus": [
            [
             0,
             "#0d0887"
            ],
            [
             0.1111111111111111,
             "#46039f"
            ],
            [
             0.2222222222222222,
             "#7201a8"
            ],
            [
             0.3333333333333333,
             "#9c179e"
            ],
            [
             0.4444444444444444,
             "#bd3786"
            ],
            [
             0.5555555555555556,
             "#d8576b"
            ],
            [
             0.6666666666666666,
             "#ed7953"
            ],
            [
             0.7777777777777778,
             "#fb9f3a"
            ],
            [
             0.8888888888888888,
             "#fdca26"
            ],
            [
             1,
             "#f0f921"
            ]
           ]
          },
          "colorway": [
           "#636efa",
           "#EF553B",
           "#00cc96",
           "#ab63fa",
           "#FFA15A",
           "#19d3f3",
           "#FF6692",
           "#B6E880",
           "#FF97FF",
           "#FECB52"
          ],
          "font": {
           "color": "#2a3f5f"
          },
          "geo": {
           "bgcolor": "white",
           "lakecolor": "white",
           "landcolor": "#E5ECF6",
           "showlakes": true,
           "showland": true,
           "subunitcolor": "white"
          },
          "hoverlabel": {
           "align": "left"
          },
          "hovermode": "closest",
          "mapbox": {
           "style": "light"
          },
          "paper_bgcolor": "white",
          "plot_bgcolor": "#E5ECF6",
          "polar": {
           "angularaxis": {
            "gridcolor": "white",
            "linecolor": "white",
            "ticks": ""
           },
           "bgcolor": "#E5ECF6",
           "radialaxis": {
            "gridcolor": "white",
            "linecolor": "white",
            "ticks": ""
           }
          },
          "scene": {
           "xaxis": {
            "backgroundcolor": "#E5ECF6",
            "gridcolor": "white",
            "gridwidth": 2,
            "linecolor": "white",
            "showbackground": true,
            "ticks": "",
            "zerolinecolor": "white"
           },
           "yaxis": {
            "backgroundcolor": "#E5ECF6",
            "gridcolor": "white",
            "gridwidth": 2,
            "linecolor": "white",
            "showbackground": true,
            "ticks": "",
            "zerolinecolor": "white"
           },
           "zaxis": {
            "backgroundcolor": "#E5ECF6",
            "gridcolor": "white",
            "gridwidth": 2,
            "linecolor": "white",
            "showbackground": true,
            "ticks": "",
            "zerolinecolor": "white"
           }
          },
          "shapedefaults": {
           "line": {
            "color": "#2a3f5f"
           }
          },
          "ternary": {
           "aaxis": {
            "gridcolor": "white",
            "linecolor": "white",
            "ticks": ""
           },
           "baxis": {
            "gridcolor": "white",
            "linecolor": "white",
            "ticks": ""
           },
           "bgcolor": "#E5ECF6",
           "caxis": {
            "gridcolor": "white",
            "linecolor": "white",
            "ticks": ""
           }
          },
          "title": {
           "x": 0.05
          },
          "xaxis": {
           "automargin": true,
           "gridcolor": "white",
           "linecolor": "white",
           "ticks": "",
           "title": {
            "standoff": 15
           },
           "zerolinecolor": "white",
           "zerolinewidth": 2
          },
          "yaxis": {
           "automargin": true,
           "gridcolor": "white",
           "linecolor": "white",
           "ticks": "",
           "title": {
            "standoff": 15
           },
           "zerolinecolor": "white",
           "zerolinewidth": 2
          }
         }
        },
        "title": {
         "text": "Nombre d'objets trouvés par saison"
        },
        "xaxis": {
         "anchor": "y",
         "domain": [
          0,
          1
         ],
         "title": {
          "text": "saison"
         }
        },
        "yaxis": {
         "anchor": "x",
         "domain": [
          0,
          1
         ],
         "title": {
          "text": "nb_objets"
         }
        }
       }
      }
     },
     "metadata": {},
     "output_type": "display_data"
    }
   ],
   "source": [
    "# Affichez le nombre d'objets trouvés en fonction du type de d'objet et de la saison sur un graphique. Il y a t il une correlation entre ces deux variables d'après le graphique?\n",
    "query = \"\"\"SELECT date , type\n",
    "FROM ObjetsTrouves \"\"\"\n",
    "\n",
    "df_test = pd.read_sql_query(query, conn)\n",
    "df_test['saison'] = df_test['date'].apply(get_season)\n",
    "df_test = df_test.groupby(['saison', 'type'])['date'].count().reset_index()\n",
    "\n",
    "# renomme la colonne date en nb_objets\n",
    "df_test.rename(columns={'date': 'nb_objets'}, inplace=True)\n",
    "# fait le graphique beau complet\n",
    "barplot = px.bar(df_test, x=\"saison\", y=\"nb_objets\", color=\"type\", title=\"Nombre d'objets trouvés par saison\")\n",
    "barplot.show()\n"
   ]
  }
 ],
 "metadata": {
  "kernelspec": {
   "display_name": "base",
   "language": "python",
   "name": "python3"
  },
  "language_info": {
   "codemirror_mode": {
    "name": "ipython",
    "version": 3
   },
   "file_extension": ".py",
   "mimetype": "text/x-python",
   "name": "python",
   "nbconvert_exporter": "python",
   "pygments_lexer": "ipython3",
   "version": "3.10.8"
  },
  "orig_nbformat": 4
 },
 "nbformat": 4,
 "nbformat_minor": 2
}
